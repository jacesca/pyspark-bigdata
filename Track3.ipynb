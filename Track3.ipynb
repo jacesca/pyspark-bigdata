{
 "cells": [
  {
   "cell_type": "markdown",
   "id": "5df1b28b-4cec-475b-b822-901e2815477a",
   "metadata": {},
   "source": [
    "# PySpark SQL & DataFrames\n",
    "\n",
    "In this track, we will see about Spark SQL which is a Spark module for structured data processing. It provides a programming abstraction called DataFrames and can also act as a distributed SQL query engine. This chapter shows how Spark SQL allows you to use DataFrames in Python.\n",
    "\n",
    "## Preparing the environment\n",
    "\n",
    "### Importing libraries"
   ]
  },
  {
   "cell_type": "code",
   "execution_count": 1,
   "id": "aef91daf-df71-4942-9961-f94a8a0a1815",
   "metadata": {},
   "outputs": [],
   "source": [
    "import numpy as np\n",
    "np.bool = np.bool_\n",
    "# To avoid the error \"AttributeError: module 'numpy' has no attribute 'bool'.\""
   ]
  },
  {
   "cell_type": "code",
   "execution_count": 2,
   "id": "60724df2-f18c-4fc9-b308-c464af3eeed0",
   "metadata": {},
   "outputs": [],
   "source": [
    "import matplotlib.pyplot as plt\n",
    "\n",
    "from pyspark.sql.types import (_parse_datatype_string, StructType, StructField,\n",
    "                               DoubleType, IntegerType, StringType)\n",
    "from pyspark.sql import SparkSession\n",
    "from pyspark_dist_explore import hist\n",
    "from handyspark import *"
   ]
  },
  {
   "cell_type": "code",
   "execution_count": 3,
   "id": "0a4a8099-a123-49d5-9792-2cd676facb35",
   "metadata": {},
   "outputs": [],
   "source": [
    "import warnings\n",
    "warnings.filterwarnings(\"ignore\")  # Ignore warnings coming from Arrow optimizations."
   ]
  },
  {
   "cell_type": "markdown",
   "id": "72c8b31b-e8a6-4703-a46f-0d05981fb5b8",
   "metadata": {},
   "source": [
    "### Connect to Spark"
   ]
  },
  {
   "cell_type": "code",
   "execution_count": 4,
   "id": "47564a9b-5d82-419d-b14c-1d1897661f40",
   "metadata": {},
   "outputs": [],
   "source": [
    "spark = SparkSession.builder.getOrCreate()\n",
    "\n",
    "# eval DataFrame in notebooks\n",
    "spark.conf.set('spark.sql.repl.eagerEval.enabled', True)"
   ]
  },
  {
   "cell_type": "code",
   "execution_count": 5,
   "id": "195067b3-df02-47f3-9d37-fbef53a59cc1",
   "metadata": {},
   "outputs": [],
   "source": [
    "sc = spark.sparkContext"
   ]
  },
  {
   "cell_type": "markdown",
   "id": "fe949665-debe-4815-a51f-e1ba940ec0a2",
   "metadata": {},
   "source": [
    "### Reading the data"
   ]
  },
  {
   "cell_type": "code",
   "execution_count": 6,
   "id": "e0beb63e-bf9c-4348-87ff-60c71a70bd9d",
   "metadata": {},
   "outputs": [
    {
     "name": "stdout",
     "output_type": "stream",
     "text": [
      "root\n",
      " |-- _c0: integer (nullable = true)\n",
      " |-- Name: string (nullable = true)\n",
      " |-- Age: integer (nullable = true)\n",
      " |-- Photo: string (nullable = true)\n",
      " |-- Nationality: string (nullable = true)\n",
      " |-- Flag: string (nullable = true)\n",
      " |-- Overall: integer (nullable = true)\n",
      " |-- Potential: integer (nullable = true)\n",
      " |-- Club: string (nullable = true)\n",
      " |-- Club Logo: string (nullable = true)\n",
      " |-- Value: string (nullable = true)\n",
      " |-- Wage: string (nullable = true)\n",
      " |-- Special: integer (nullable = true)\n",
      " |-- Acceleration: integer (nullable = true)\n",
      " |-- Aggression: integer (nullable = true)\n",
      " |-- Agility: integer (nullable = true)\n",
      " |-- Balance: integer (nullable = true)\n",
      " |-- Ball control: integer (nullable = true)\n",
      " |-- Composure: integer (nullable = true)\n",
      " |-- Crossing: integer (nullable = true)\n",
      " |-- Curve: integer (nullable = true)\n",
      " |-- Dribbling: integer (nullable = true)\n",
      " |-- Finishing: integer (nullable = true)\n",
      " |-- Free kick accuracy: integer (nullable = true)\n",
      " |-- GK diving: integer (nullable = true)\n",
      " |-- GK handling: integer (nullable = true)\n",
      " |-- GK kicking: integer (nullable = true)\n",
      " |-- GK positioning: integer (nullable = true)\n",
      " |-- GK reflexes: integer (nullable = true)\n",
      " |-- Heading accuracy: integer (nullable = true)\n",
      " |-- Interceptions: integer (nullable = true)\n",
      " |-- Jumping: integer (nullable = true)\n",
      " |-- Long passing: integer (nullable = true)\n",
      " |-- Long shots: integer (nullable = true)\n",
      " |-- Marking: integer (nullable = true)\n",
      " |-- Penalties: integer (nullable = true)\n",
      " |-- Positioning: integer (nullable = true)\n",
      " |-- Reactions: integer (nullable = true)\n",
      " |-- Short passing: integer (nullable = true)\n",
      " |-- Shot power: integer (nullable = true)\n",
      " |-- Sliding tackle: integer (nullable = true)\n",
      " |-- Sprint speed: integer (nullable = true)\n",
      " |-- Stamina: integer (nullable = true)\n",
      " |-- Standing tackle: integer (nullable = true)\n",
      " |-- Strength: integer (nullable = true)\n",
      " |-- Vision: integer (nullable = true)\n",
      " |-- Volleys: integer (nullable = true)\n",
      " |-- CAM: double (nullable = true)\n",
      " |-- CB: double (nullable = true)\n",
      " |-- CDM: double (nullable = true)\n",
      " |-- CF: double (nullable = true)\n",
      " |-- CM: double (nullable = true)\n",
      " |-- ID: integer (nullable = true)\n",
      " |-- LAM: double (nullable = true)\n",
      " |-- LB: double (nullable = true)\n",
      " |-- LCB: double (nullable = true)\n",
      " |-- LCM: double (nullable = true)\n",
      " |-- LDM: double (nullable = true)\n",
      " |-- LF: double (nullable = true)\n",
      " |-- LM: double (nullable = true)\n",
      " |-- LS: double (nullable = true)\n",
      " |-- LW: double (nullable = true)\n",
      " |-- LWB: double (nullable = true)\n",
      " |-- Preferred Positions: string (nullable = true)\n",
      " |-- RAM: double (nullable = true)\n",
      " |-- RB: double (nullable = true)\n",
      " |-- RCB: double (nullable = true)\n",
      " |-- RCM: double (nullable = true)\n",
      " |-- RDM: double (nullable = true)\n",
      " |-- RF: double (nullable = true)\n",
      " |-- RM: double (nullable = true)\n",
      " |-- RS: double (nullable = true)\n",
      " |-- RW: double (nullable = true)\n",
      " |-- RWB: double (nullable = true)\n",
      " |-- ST: double (nullable = true)\n",
      "\n"
     ]
    },
    {
     "data": {
      "text/html": [
       "<table border='1'>\n",
       "<tr><th>_c0</th><th>Name</th><th>Age</th><th>Photo</th><th>Nationality</th><th>Flag</th><th>Overall</th><th>Potential</th><th>Club</th><th>Club Logo</th><th>Value</th><th>Wage</th><th>Special</th><th>Acceleration</th><th>Aggression</th><th>Agility</th><th>Balance</th><th>Ball control</th><th>Composure</th><th>Crossing</th><th>Curve</th><th>Dribbling</th><th>Finishing</th><th>Free kick accuracy</th><th>GK diving</th><th>GK handling</th><th>GK kicking</th><th>GK positioning</th><th>GK reflexes</th><th>Heading accuracy</th><th>Interceptions</th><th>Jumping</th><th>Long passing</th><th>Long shots</th><th>Marking</th><th>Penalties</th><th>Positioning</th><th>Reactions</th><th>Short passing</th><th>Shot power</th><th>Sliding tackle</th><th>Sprint speed</th><th>Stamina</th><th>Standing tackle</th><th>Strength</th><th>Vision</th><th>Volleys</th><th>CAM</th><th>CB</th><th>CDM</th><th>CF</th><th>CM</th><th>ID</th><th>LAM</th><th>LB</th><th>LCB</th><th>LCM</th><th>LDM</th><th>LF</th><th>LM</th><th>LS</th><th>LW</th><th>LWB</th><th>Preferred Positions</th><th>RAM</th><th>RB</th><th>RCB</th><th>RCM</th><th>RDM</th><th>RF</th><th>RM</th><th>RS</th><th>RW</th><th>RWB</th><th>ST</th></tr>\n",
       "<tr><td>0</td><td>Cristiano Ronaldo</td><td>32</td><td>https://cdn.sofif...</td><td>Portugal</td><td>https://cdn.sofif...</td><td>94</td><td>94</td><td>Real Madrid CF</td><td>https://cdn.sofif...</td><td>&euro;95.5M</td><td>&euro;565K</td><td>2228</td><td>89</td><td>63</td><td>89</td><td>63</td><td>93</td><td>95</td><td>85</td><td>81</td><td>91</td><td>94</td><td>76</td><td>7</td><td>11</td><td>15</td><td>14</td><td>11</td><td>88</td><td>29</td><td>95</td><td>77</td><td>92</td><td>22</td><td>85</td><td>95</td><td>96</td><td>83</td><td>94</td><td>23</td><td>91</td><td>92</td><td>31</td><td>80</td><td>85</td><td>88</td><td>89.0</td><td>53.0</td><td>62.0</td><td>91.0</td><td>82.0</td><td>20801</td><td>89.0</td><td>61.0</td><td>53.0</td><td>82.0</td><td>62.0</td><td>91.0</td><td>89.0</td><td>92.0</td><td>91.0</td><td>66.0</td><td>ST LW </td><td>89.0</td><td>61.0</td><td>53.0</td><td>82.0</td><td>62.0</td><td>91.0</td><td>89.0</td><td>92.0</td><td>91.0</td><td>66.0</td><td>92.0</td></tr>\n",
       "<tr><td>1</td><td>L. Messi</td><td>30</td><td>https://cdn.sofif...</td><td>Argentina</td><td>https://cdn.sofif...</td><td>93</td><td>93</td><td>FC Barcelona</td><td>https://cdn.sofif...</td><td>&euro;105M</td><td>&euro;565K</td><td>2154</td><td>92</td><td>48</td><td>90</td><td>95</td><td>95</td><td>96</td><td>77</td><td>89</td><td>97</td><td>95</td><td>90</td><td>6</td><td>11</td><td>15</td><td>14</td><td>8</td><td>71</td><td>22</td><td>68</td><td>87</td><td>88</td><td>13</td><td>74</td><td>93</td><td>95</td><td>88</td><td>85</td><td>26</td><td>87</td><td>73</td><td>28</td><td>59</td><td>90</td><td>85</td><td>92.0</td><td>45.0</td><td>59.0</td><td>92.0</td><td>84.0</td><td>158023</td><td>92.0</td><td>57.0</td><td>45.0</td><td>84.0</td><td>59.0</td><td>92.0</td><td>90.0</td><td>88.0</td><td>91.0</td><td>62.0</td><td>RW </td><td>92.0</td><td>57.0</td><td>45.0</td><td>84.0</td><td>59.0</td><td>92.0</td><td>90.0</td><td>88.0</td><td>91.0</td><td>62.0</td><td>88.0</td></tr>\n",
       "</table>\n"
      ],
      "text/plain": [
       "+---+-----------------+---+--------------------+-----------+--------------------+-------+---------+--------------+--------------------+------+-----+-------+------------+----------+-------+-------+------------+---------+--------+-----+---------+---------+------------------+---------+-----------+----------+--------------+-----------+----------------+-------------+-------+------------+----------+-------+---------+-----------+---------+-------------+----------+--------------+------------+-------+---------------+--------+------+-------+----+----+----+----+----+------+----+----+----+----+----+----+----+----+----+----+-------------------+----+----+----+----+----+----+----+----+----+----+----+\n",
       "|_c0|             Name|Age|               Photo|Nationality|                Flag|Overall|Potential|          Club|           Club Logo| Value| Wage|Special|Acceleration|Aggression|Agility|Balance|Ball control|Composure|Crossing|Curve|Dribbling|Finishing|Free kick accuracy|GK diving|GK handling|GK kicking|GK positioning|GK reflexes|Heading accuracy|Interceptions|Jumping|Long passing|Long shots|Marking|Penalties|Positioning|Reactions|Short passing|Shot power|Sliding tackle|Sprint speed|Stamina|Standing tackle|Strength|Vision|Volleys| CAM|  CB| CDM|  CF|  CM|    ID| LAM|  LB| LCB| LCM| LDM|  LF|  LM|  LS|  LW| LWB|Preferred Positions| RAM|  RB| RCB| RCM| RDM|  RF|  RM|  RS|  RW| RWB|  ST|\n",
       "+---+-----------------+---+--------------------+-----------+--------------------+-------+---------+--------------+--------------------+------+-----+-------+------------+----------+-------+-------+------------+---------+--------+-----+---------+---------+------------------+---------+-----------+----------+--------------+-----------+----------------+-------------+-------+------------+----------+-------+---------+-----------+---------+-------------+----------+--------------+------------+-------+---------------+--------+------+-------+----+----+----+----+----+------+----+----+----+----+----+----+----+----+----+----+-------------------+----+----+----+----+----+----+----+----+----+----+----+\n",
       "|  0|Cristiano Ronaldo| 32|https://cdn.sofif...|   Portugal|https://cdn.sofif...|     94|       94|Real Madrid CF|https://cdn.sofif...|€95.5M|€565K|   2228|          89|        63|     89|     63|          93|       95|      85|   81|       91|       94|                76|        7|         11|        15|            14|         11|              88|           29|     95|          77|        92|     22|       85|         95|       96|           83|        94|            23|          91|     92|             31|      80|    85|     88|89.0|53.0|62.0|91.0|82.0| 20801|89.0|61.0|53.0|82.0|62.0|91.0|89.0|92.0|91.0|66.0|             ST LW |89.0|61.0|53.0|82.0|62.0|91.0|89.0|92.0|91.0|66.0|92.0|\n",
       "|  1|         L. Messi| 30|https://cdn.sofif...|  Argentina|https://cdn.sofif...|     93|       93|  FC Barcelona|https://cdn.sofif...| €105M|€565K|   2154|          92|        48|     90|     95|          95|       96|      77|   89|       97|       95|                90|        6|         11|        15|            14|          8|              71|           22|     68|          87|        88|     13|       74|         93|       95|           88|        85|            26|          87|     73|             28|      59|    90|     85|92.0|45.0|59.0|92.0|84.0|158023|92.0|57.0|45.0|84.0|59.0|92.0|90.0|88.0|91.0|62.0|                RW |92.0|57.0|45.0|84.0|59.0|92.0|90.0|88.0|91.0|62.0|88.0|\n",
       "+---+-----------------+---+--------------------+-----------+--------------------+-------+---------+--------------+--------------------+------+-----+-------+------------+----------+-------+-------+------------+---------+--------+-----+---------+---------+------------------+---------+-----------+----------+--------------+-----------+----------------+-------------+-------+------------+----------+-------+---------+-----------+---------+-------------+----------+--------------+------------+-------+---------------+--------+------+-------+----+----+----+----+----+------+----+----+----+----+----+----+----+----+----+----+-------------------+----+----+----+----+----+----+----+----+----+----+----+"
      ]
     },
     "execution_count": 6,
     "metadata": {},
     "output_type": "execute_result"
    }
   ],
   "source": [
    "fifa = spark.read.csv('data-sources/Fifa2018_dataset.csv', header=True, inferSchema=True)\n",
    "# cast to integer\n",
    "for col_name in ['Acceleration', 'Aggression', 'Agility', 'Balance', 'Ball control', 'Composure', \n",
    "                 'Crossing', 'Curve', 'Dribbling', 'Finishing', 'Free kick accuracy', 'GK diving', \n",
    "                 'GK handling', 'GK kicking', 'GK positioning', 'GK reflexes', 'Heading accuracy', \n",
    "                 'Interceptions', 'Jumping', 'Long passing', 'Long shots', 'Marking', 'Penalties', \n",
    "                 'Positioning', 'Reactions', 'Short passing', 'Shot power', 'Sliding tackle', \n",
    "                 'Sprint speed', 'Stamina', 'Standing tackle', 'Strength', 'Vision', 'Volleys']:\n",
    "    fifa = fifa.withColumn(col_name, fifa[col_name].cast('integer'))\n",
    "fifa.createOrReplaceTempView(\"fifa\")\n",
    "fifa.printSchema()\n",
    "fifa.limit(2)"
   ]
  },
  {
   "cell_type": "code",
   "execution_count": 7,
   "id": "017c0d06-8962-4036-886c-78057f1eb7d9",
   "metadata": {},
   "outputs": [
    {
     "name": "stdout",
     "output_type": "stream",
     "text": [
      "root\n",
      " |-- userId: integer (nullable = true)\n",
      " |-- movieId: integer (nullable = true)\n",
      " |-- rating: double (nullable = true)\n",
      " |-- timestamp: integer (nullable = true)\n",
      "\n"
     ]
    },
    {
     "data": {
      "text/html": [
       "<table border='1'>\n",
       "<tr><th>userId</th><th>movieId</th><th>rating</th><th>timestamp</th></tr>\n",
       "<tr><td>1</td><td>31</td><td>2.5</td><td>1260759144</td></tr>\n",
       "<tr><td>1</td><td>1029</td><td>3.0</td><td>1260759179</td></tr>\n",
       "</table>\n"
      ],
      "text/plain": [
       "+------+-------+------+----------+\n",
       "|userId|movieId|rating| timestamp|\n",
       "+------+-------+------+----------+\n",
       "|     1|     31|   2.5|1260759144|\n",
       "|     1|   1029|   3.0|1260759179|\n",
       "+------+-------+------+----------+"
      ]
     },
     "execution_count": 7,
     "metadata": {},
     "output_type": "execute_result"
    }
   ],
   "source": [
    "movies = spark.read.csv('data-sources/movie-ratings.csv', header=False, inferSchema=True,\n",
    "                        schema='userId int, movieId int, rating double, timestamp int')\n",
    "movies.createOrReplaceTempView(\"movies\")\n",
    "movies.printSchema()\n",
    "movies.limit(2)"
   ]
  },
  {
   "cell_type": "code",
   "execution_count": 8,
   "id": "eefa5ee7-b0f5-4148-b561-c1bb319586a6",
   "metadata": {},
   "outputs": [
    {
     "name": "stdout",
     "output_type": "stream",
     "text": [
      "root\n",
      " |-- _c0: integer (nullable = true)\n",
      " |-- person_id: integer (nullable = true)\n",
      " |-- name: string (nullable = true)\n",
      " |-- sex: string (nullable = true)\n",
      " |-- date of birth: timestamp (nullable = true)\n",
      "\n"
     ]
    },
    {
     "data": {
      "text/html": [
       "<table border='1'>\n",
       "<tr><th>_c0</th><th>person_id</th><th>name</th><th>sex</th><th>date of birth</th></tr>\n",
       "<tr><td>0</td><td>100</td><td>Penelope Lewis</td><td>female</td><td>1990-08-31 00:00:00</td></tr>\n",
       "<tr><td>1</td><td>101</td><td>David Anthony</td><td>male</td><td>1971-10-14 00:00:00</td></tr>\n",
       "</table>\n"
      ],
      "text/plain": [
       "+---+---------+--------------+------+-------------------+\n",
       "|_c0|person_id|          name|   sex|      date of birth|\n",
       "+---+---------+--------------+------+-------------------+\n",
       "|  0|      100|Penelope Lewis|female|1990-08-31 00:00:00|\n",
       "|  1|      101| David Anthony|  male|1971-10-14 00:00:00|\n",
       "+---+---------+--------------+------+-------------------+"
      ]
     },
     "execution_count": 8,
     "metadata": {},
     "output_type": "execute_result"
    }
   ],
   "source": [
    "people = spark.read.csv('data-sources/people.csv', header=True, inferSchema=True)\n",
    "people.createOrReplaceTempView(\"people\")\n",
    "people.printSchema()\n",
    "people.limit(2)"
   ]
  },
  {
   "cell_type": "code",
   "execution_count": 9,
   "id": "e10d2ce5-e434-4b1e-abe6-b5fb7cc8c7ed",
   "metadata": {},
   "outputs": [
    {
     "name": "stdout",
     "output_type": "stream",
     "text": [
      "root\n",
      " |-- Wine: integer (nullable = true)\n",
      " |-- Alcohol: double (nullable = true)\n",
      " |-- Malic.acid: double (nullable = true)\n",
      " |-- Ash: double (nullable = true)\n",
      " |-- Acl: double (nullable = true)\n",
      " |-- Mg: integer (nullable = true)\n",
      " |-- Phenols: double (nullable = true)\n",
      " |-- Flavanoids: double (nullable = true)\n",
      " |-- Nonflavanoid.phenols: double (nullable = true)\n",
      " |-- Proanth: double (nullable = true)\n",
      " |-- Color.int: double (nullable = true)\n",
      " |-- Hue: double (nullable = true)\n",
      " |-- OD: double (nullable = true)\n",
      " |-- Proline: integer (nullable = true)\n",
      "\n"
     ]
    },
    {
     "data": {
      "text/html": [
       "<table border='1'>\n",
       "<tr><th>Wine</th><th>Alcohol</th><th>Malic.acid</th><th>Ash</th><th>Acl</th><th>Mg</th><th>Phenols</th><th>Flavanoids</th><th>Nonflavanoid.phenols</th><th>Proanth</th><th>Color.int</th><th>Hue</th><th>OD</th><th>Proline</th></tr>\n",
       "<tr><td>1</td><td>14.23</td><td>1.71</td><td>2.43</td><td>15.6</td><td>127</td><td>2.8</td><td>3.06</td><td>0.28</td><td>2.29</td><td>5.64</td><td>1.04</td><td>3.92</td><td>1065</td></tr>\n",
       "<tr><td>1</td><td>13.2</td><td>1.78</td><td>2.14</td><td>11.2</td><td>100</td><td>2.65</td><td>2.76</td><td>0.26</td><td>1.28</td><td>4.38</td><td>1.05</td><td>3.4</td><td>1050</td></tr>\n",
       "</table>\n"
      ],
      "text/plain": [
       "+----+-------+----------+----+----+---+-------+----------+--------------------+-------+---------+----+----+-------+\n",
       "|Wine|Alcohol|Malic.acid| Ash| Acl| Mg|Phenols|Flavanoids|Nonflavanoid.phenols|Proanth|Color.int| Hue|  OD|Proline|\n",
       "+----+-------+----------+----+----+---+-------+----------+--------------------+-------+---------+----+----+-------+\n",
       "|   1|  14.23|      1.71|2.43|15.6|127|    2.8|      3.06|                0.28|   2.29|     5.64|1.04|3.92|   1065|\n",
       "|   1|   13.2|      1.78|2.14|11.2|100|   2.65|      2.76|                0.26|   1.28|     4.38|1.05| 3.4|   1050|\n",
       "+----+-------+----------+----+----+---+-------+----------+--------------------+-------+---------+----+----+-------+"
      ]
     },
     "execution_count": 9,
     "metadata": {},
     "output_type": "execute_result"
    }
   ],
   "source": [
    "wine = spark.read.csv('data-sources/wine-data.csv', header=True, inferSchema=True)\n",
    "wine.createOrReplaceTempView(\"wine\")\n",
    "wine.printSchema()\n",
    "wine.limit(2)"
   ]
  },
  {
   "cell_type": "code",
   "execution_count": 10,
   "id": "cd37bec1-aa3c-435a-954a-fcd02c04c78a",
   "metadata": {},
   "outputs": [
    {
     "data": {
      "text/plain": [
       "[Table(name='fifa', catalog=None, namespace=[], description=None, tableType='TEMPORARY', isTemporary=True),\n",
       " Table(name='movies', catalog=None, namespace=[], description=None, tableType='TEMPORARY', isTemporary=True),\n",
       " Table(name='people', catalog=None, namespace=[], description=None, tableType='TEMPORARY', isTemporary=True),\n",
       " Table(name='wine', catalog=None, namespace=[], description=None, tableType='TEMPORARY', isTemporary=True)]"
      ]
     },
     "execution_count": 10,
     "metadata": {},
     "output_type": "execute_result"
    }
   ],
   "source": [
    "spark.catalog.listTables()"
   ]
  },
  {
   "cell_type": "markdown",
   "id": "cea637dc-3a50-4da0-b628-c89ebe2aee37",
   "metadata": {},
   "source": [
    "## Abstracting Data with DataFrames\n",
    "\n",
    "### Create a DataFrame from RDD"
   ]
  },
  {
   "cell_type": "code",
   "execution_count": 11,
   "id": "f987b533-52a1-4dab-b77b-a94f49f9daf8",
   "metadata": {},
   "outputs": [],
   "source": [
    "iphones_RDD = sc.parallelize([\n",
    "    (\"XS\", 2018, 5.65, 2.79, 6.24),\n",
    "    (\"XR\", 2018, 5.94, 2.98, 6.84),\n",
    "    (\"X10\", 2017, 5.65, 2.79, 6.13),\n",
    "    (\"8Plus\", 2017, 6.23, 3.07, 7.12)\n",
    "])\n",
    "names = ['Model', 'Year', 'Height', 'Width', 'Weight']"
   ]
  },
  {
   "cell_type": "code",
   "execution_count": 12,
   "id": "6ea28a4f-9d3f-4f54-ab60-e6f848f0c361",
   "metadata": {},
   "outputs": [
    {
     "data": {
      "text/plain": [
       "pyspark.sql.dataframe.DataFrame"
      ]
     },
     "execution_count": 12,
     "metadata": {},
     "output_type": "execute_result"
    }
   ],
   "source": [
    "iphones_df = spark.createDataFrame(iphones_RDD, schema=names)\n",
    "type(iphones_df)"
   ]
  },
  {
   "cell_type": "code",
   "execution_count": 13,
   "id": "94fccf1b-fa6a-4834-828c-97955b60aed2",
   "metadata": {},
   "outputs": [
    {
     "data": {
      "text/html": [
       "<table border='1'>\n",
       "<tr><th>Model</th><th>Year</th><th>Height</th><th>Width</th><th>Weight</th></tr>\n",
       "<tr><td>XS</td><td>2018</td><td>5.65</td><td>2.79</td><td>6.24</td></tr>\n",
       "<tr><td>XR</td><td>2018</td><td>5.94</td><td>2.98</td><td>6.84</td></tr>\n",
       "<tr><td>X10</td><td>2017</td><td>5.65</td><td>2.79</td><td>6.13</td></tr>\n",
       "<tr><td>8Plus</td><td>2017</td><td>6.23</td><td>3.07</td><td>7.12</td></tr>\n",
       "</table>\n"
      ],
      "text/plain": [
       "+-----+----+------+-----+------+\n",
       "|Model|Year|Height|Width|Weight|\n",
       "+-----+----+------+-----+------+\n",
       "|   XS|2018|  5.65| 2.79|  6.24|\n",
       "|   XR|2018|  5.94| 2.98|  6.84|\n",
       "|  X10|2017|  5.65| 2.79|  6.13|\n",
       "|8Plus|2017|  6.23| 3.07|  7.12|\n",
       "+-----+----+------+-----+------+"
      ]
     },
     "execution_count": 13,
     "metadata": {},
     "output_type": "execute_result"
    }
   ],
   "source": [
    "iphones_df"
   ]
  },
  {
   "cell_type": "code",
   "execution_count": 14,
   "id": "5ebb7cb2-14e7-4759-80b4-e8020abd71c0",
   "metadata": {},
   "outputs": [
    {
     "name": "stdout",
     "output_type": "stream",
     "text": [
      "root\n",
      " |-- Model: string (nullable = true)\n",
      " |-- Year: long (nullable = true)\n",
      " |-- Height: double (nullable = true)\n",
      " |-- Width: double (nullable = true)\n",
      " |-- Weight: double (nullable = true)\n",
      "\n"
     ]
    }
   ],
   "source": [
    "iphones_df.printSchema()"
   ]
  },
  {
   "cell_type": "markdown",
   "id": "6d1f5226-e9d9-4bf9-ac86-169456cdfd9b",
   "metadata": {},
   "source": [
    "## Ex. 1 - RDD to DataFrame\n",
    "\n",
    "Similar to RDDs, DataFrames are immutable and distributed data structures in Spark. Even though RDDs are a fundamental data structure in Spark, working with data in DataFrames is easier than in RDDs. So, understanding of how to convert an RDD to a DataFrame is necessary.\n",
    "\n",
    "In this exercise, you'll first make an RDD using the `sample_list` that is already provided to you. This RDD contains a list of tuples `('Mona',20), ('Jennifer',34),('John',20), ('Jim',26)` with each tuple containing the name of the person and their age. Next, you'll create a DataFrame using the RDD and schema (which is the list of 'Name' and 'Age') and finally confirm the output is a PySpark DataFrame.\n",
    "\n",
    "**Instructions:**\n",
    "\n",
    "1. Create an RDD from the `sample_list`.\n",
    "2. Create a PySpark DataFrame using the above RDD and schema.\n",
    "3. Confirm the output as PySpark DataFrame."
   ]
  },
  {
   "cell_type": "code",
   "execution_count": 15,
   "id": "6be11e34-ca0e-485a-912e-89e0a0bf52da",
   "metadata": {},
   "outputs": [
    {
     "name": "stdout",
     "output_type": "stream",
     "text": [
      "The type of names_df is <class 'pyspark.sql.dataframe.DataFrame'>\n"
     ]
    }
   ],
   "source": [
    "# Create an RDD from the list\n",
    "sample_list = [('Mona', 20), ('Jennifer', 34), ('John', 20), ('Jim', 26)]\n",
    "rdd = sc.parallelize(sample_list)\n",
    "\n",
    "# Create a PySpark DataFrame\n",
    "names_df = spark.createDataFrame(rdd, schema=['Name', 'Age'])\n",
    "\n",
    "# Check the type of names_df\n",
    "print(\"The type of names_df is\", type(names_df))"
   ]
  },
  {
   "cell_type": "code",
   "execution_count": 16,
   "id": "78b5e007-4169-4a22-b27f-c0874b4577bf",
   "metadata": {},
   "outputs": [
    {
     "data": {
      "text/html": [
       "<table border='1'>\n",
       "<tr><th>Name</th><th>Age</th></tr>\n",
       "<tr><td>Mona</td><td>20</td></tr>\n",
       "<tr><td>Jennifer</td><td>34</td></tr>\n",
       "<tr><td>John</td><td>20</td></tr>\n",
       "<tr><td>Jim</td><td>26</td></tr>\n",
       "</table>\n"
      ],
      "text/plain": [
       "+--------+---+\n",
       "|    Name|Age|\n",
       "+--------+---+\n",
       "|    Mona| 20|\n",
       "|Jennifer| 34|\n",
       "|    John| 20|\n",
       "|     Jim| 26|\n",
       "+--------+---+"
      ]
     },
     "execution_count": 16,
     "metadata": {},
     "output_type": "execute_result"
    }
   ],
   "source": [
    "names_df"
   ]
  },
  {
   "cell_type": "code",
   "execution_count": 17,
   "id": "7e9d93ab-6a9e-4039-94cd-f7520e796528",
   "metadata": {},
   "outputs": [
    {
     "name": "stdout",
     "output_type": "stream",
     "text": [
      "root\n",
      " |-- Name: string (nullable = true)\n",
      " |-- Age: long (nullable = true)\n",
      "\n"
     ]
    }
   ],
   "source": [
    "names_df.printSchema()"
   ]
  },
  {
   "cell_type": "markdown",
   "id": "0c28b583-9896-4481-9714-94a3abb22a9c",
   "metadata": {},
   "source": [
    "## Ex. 2 - Loading CSV into DataFrame\n",
    "\n",
    "In the previous exercise, you have seen a method for creating a DataFrame from an RDD. Generally, loading data from CSV file is the most common method of creating DataFrames. In this exercise, you'll create a PySpark DataFrame from the `people.csv` file that is already provided to you as a `file_path` and confirm the created object is a PySpark DataFrame.\n",
    "\n",
    "**Instructions:**\n",
    "\n",
    "1. Create a DataFrame from `file_path` variable which is the path to the `people.csv` file.\n",
    "2. Confirm the output as PySpark DataFrame."
   ]
  },
  {
   "cell_type": "code",
   "execution_count": 18,
   "id": "d1bfce9d-ca6f-4a70-b0ad-e2a2831e8adf",
   "metadata": {},
   "outputs": [
    {
     "name": "stdout",
     "output_type": "stream",
     "text": [
      "The type of people_df is <class 'pyspark.sql.dataframe.DataFrame'>\n"
     ]
    }
   ],
   "source": [
    "# Create an DataFrame from file_path\n",
    "file_path = 'data-sources/people.csv'\n",
    "people_df = spark.read.csv(file_path, header=True, inferSchema=True)\n",
    "\n",
    "# Check the type of people_df\n",
    "print(\"The type of people_df is\", type(people_df))"
   ]
  },
  {
   "cell_type": "markdown",
   "id": "bcad1034-07f3-4d11-8247-01e790d60bf5",
   "metadata": {},
   "source": [
    "## Operating on DataFrames in PySpark\n",
    "\n",
    "### select() and show() operations\n",
    "\n",
    "- `select()` transformation subsets the columns in the DataFrame\n",
    "- `show()` action prints first 20 rows in the DataFrame"
   ]
  },
  {
   "cell_type": "code",
   "execution_count": 19,
   "id": "53356054-736f-4e0e-9ffe-567359ea5624",
   "metadata": {},
   "outputs": [
    {
     "name": "stdout",
     "output_type": "stream",
     "text": [
      "+------+-----------------+---+\n",
      "|    ID|             Name|Age|\n",
      "+------+-----------------+---+\n",
      "| 20801|Cristiano Ronaldo| 32|\n",
      "|158023|         L. Messi| 30|\n",
      "|190871|           Neymar| 25|\n",
      "+------+-----------------+---+\n",
      "only showing top 3 rows\n",
      "\n"
     ]
    }
   ],
   "source": [
    "df_id_age = fifa.select('ID', 'Name', 'Age')\n",
    "df_id_age.show(3)"
   ]
  },
  {
   "cell_type": "markdown",
   "id": "d3119892-6b56-4cf8-9544-e800ce490547",
   "metadata": {},
   "source": [
    "### filter() and show() operations\n",
    "\n",
    "- `filter()` transformation filters out the rows based on a condition"
   ]
  },
  {
   "cell_type": "code",
   "execution_count": 20,
   "id": "91760cfa-4a94-4123-a789-6881680f1e4b",
   "metadata": {},
   "outputs": [
    {
     "name": "stdout",
     "output_type": "stream",
     "text": [
      "+------+-----------------+---+\n",
      "|    ID|             Name|Age|\n",
      "+------+-----------------+---+\n",
      "| 20801|Cristiano Ronaldo| 32|\n",
      "|158023|         L. Messi| 30|\n",
      "|190871|           Neymar| 25|\n",
      "+------+-----------------+---+\n",
      "only showing top 3 rows\n",
      "\n"
     ]
    }
   ],
   "source": [
    "df_age21 = fifa.select('ID', 'Name', 'Age').filter(fifa.Age > 21)\n",
    "df_age21.show(3)"
   ]
  },
  {
   "cell_type": "markdown",
   "id": "e8343901-a21b-4ec7-b84f-97d2c34ec354",
   "metadata": {},
   "source": [
    "### groupby() and count() operations\n",
    "\n",
    "- `groupby()` operation can be used to group a variable"
   ]
  },
  {
   "cell_type": "code",
   "execution_count": 21,
   "id": "3bad0b86-a463-4f48-bf5e-efb15f4d60bd",
   "metadata": {},
   "outputs": [
    {
     "name": "stdout",
     "output_type": "stream",
     "text": [
      "+---+-----+\n",
      "|Age|count|\n",
      "+---+-----+\n",
      "| 31|  671|\n",
      "| 34|  272|\n",
      "| 28| 1051|\n",
      "+---+-----+\n",
      "only showing top 3 rows\n",
      "\n"
     ]
    }
   ],
   "source": [
    "test_df_age_group = fifa.groupby('Age')\n",
    "test_df_age_group.count().show(3)"
   ]
  },
  {
   "cell_type": "markdown",
   "id": "32099290-39e0-4606-8043-c0603fde2e50",
   "metadata": {},
   "source": [
    "### orderby() Transformations\n",
    "\n",
    "- `orderby()` operation sorts the DataFrame based on one or more columns"
   ]
  },
  {
   "cell_type": "code",
   "execution_count": 22,
   "id": "c1f8c484-f64f-4fab-a300-75897c400922",
   "metadata": {},
   "outputs": [
    {
     "name": "stdout",
     "output_type": "stream",
     "text": [
      "+---+-----+\n",
      "|Age|count|\n",
      "+---+-----+\n",
      "| 16|   13|\n",
      "| 17|  258|\n",
      "| 18|  672|\n",
      "+---+-----+\n",
      "only showing top 3 rows\n",
      "\n"
     ]
    }
   ],
   "source": [
    "test_df_age_group.count().orderBy('Age').show(3)"
   ]
  },
  {
   "cell_type": "markdown",
   "id": "32e59fa4-cdd4-4181-b04a-d0ff09b55650",
   "metadata": {},
   "source": [
    "### dropDuplicates()\n",
    "\r",
    "- `\n",
    "dropDuplicates(`) removes the duplicate rows of a DataFrame"
   ]
  },
  {
   "cell_type": "code",
   "execution_count": 23,
   "id": "20bc9261-b512-4023-bd20-a6664af4599c",
   "metadata": {},
   "outputs": [
    {
     "data": {
      "text/plain": [
       "17981"
      ]
     },
     "execution_count": 23,
     "metadata": {},
     "output_type": "execute_result"
    }
   ],
   "source": [
    "test_df = fifa.select('Nationality', 'Age')\n",
    "test_df.count()"
   ]
  },
  {
   "cell_type": "code",
   "execution_count": 24,
   "id": "4ce28b49-ffbd-4377-9b00-86fffff78fdf",
   "metadata": {},
   "outputs": [
    {
     "data": {
      "text/plain": [
       "1721"
      ]
     },
     "execution_count": 24,
     "metadata": {},
     "output_type": "execute_result"
    }
   ],
   "source": [
    "test_df_no_dup = test_df.dropDuplicates()\n",
    "test_df_no_dup.count()"
   ]
  },
  {
   "cell_type": "markdown",
   "id": "98272780-b85d-4ba9-beef-dc0d03be2c59",
   "metadata": {},
   "source": [
    "### withColumnRenamed Transformations\n",
    "\n",
    "- `withColumnRenamed()` renames a column in the DataFrame"
   ]
  },
  {
   "cell_type": "code",
   "execution_count": 25,
   "id": "6fd2d330-ac94-4753-ab03-8b237fca9391",
   "metadata": {},
   "outputs": [
    {
     "name": "stdout",
     "output_type": "stream",
     "text": [
      "+---------+--------------+------+\n",
      "|person_id|          name|Gender|\n",
      "+---------+--------------+------+\n",
      "|      100|Penelope Lewis|female|\n",
      "|      101| David Anthony|  male|\n",
      "|      102|     Ida Shipp|female|\n",
      "+---------+--------------+------+\n",
      "only showing top 3 rows\n",
      "\n"
     ]
    }
   ],
   "source": [
    "test_df_sex = people.select('person_id', 'name', 'sex').withColumnRenamed('Sex', 'Gender')\n",
    "test_df_sex.show(3)"
   ]
  },
  {
   "cell_type": "markdown",
   "id": "78d9579b-9fc4-4a3b-9d1a-e17a8a7c57f7",
   "metadata": {},
   "source": [
    "### printSchema()\n",
    "\n",
    "- `printSchema()` operation prints the types of columns in the DataFrame"
   ]
  },
  {
   "cell_type": "code",
   "execution_count": 26,
   "id": "ab2c6a75-4c55-4301-979f-597e479a7a2e",
   "metadata": {},
   "outputs": [
    {
     "name": "stdout",
     "output_type": "stream",
     "text": [
      "root\n",
      " |-- _c0: integer (nullable = true)\n",
      " |-- person_id: integer (nullable = true)\n",
      " |-- name: string (nullable = true)\n",
      " |-- sex: string (nullable = true)\n",
      " |-- date of birth: timestamp (nullable = true)\n",
      "\n"
     ]
    }
   ],
   "source": [
    "people.printSchema()"
   ]
  },
  {
   "cell_type": "markdown",
   "id": "bfccb229-18e0-4182-ab39-6500da4e62d0",
   "metadata": {},
   "source": [
    "### columns actions\n",
    "\n",
    "- `columns` operator prints the columns of a DataFrame"
   ]
  },
  {
   "cell_type": "code",
   "execution_count": 27,
   "id": "cc6bd6b7-59e3-4520-99a1-26d13d1ce7d3",
   "metadata": {},
   "outputs": [
    {
     "data": {
      "text/plain": [
       "['_c0', 'person_id', 'name', 'sex', 'date of birth']"
      ]
     },
     "execution_count": 27,
     "metadata": {},
     "output_type": "execute_result"
    }
   ],
   "source": [
    "people.columns"
   ]
  },
  {
   "cell_type": "markdown",
   "id": "05a01d60-e2b3-4ca5-a3ec-6abee14e6daf",
   "metadata": {},
   "source": [
    "### describe() actions\n",
    "\n",
    "- `describe()` operation compute summary statistics of numerical columns in the DataFrame"
   ]
  },
  {
   "cell_type": "code",
   "execution_count": 28,
   "id": "f61fd88f-d1b1-46d2-8ce9-55b2d9c77fba",
   "metadata": {},
   "outputs": [
    {
     "name": "stdout",
     "output_type": "stream",
     "text": [
      "+-------+-----------------+-----------------+-------------+------+\n",
      "|summary|              _c0|        person_id|         name|   sex|\n",
      "+-------+-----------------+-----------------+-------------+------+\n",
      "|  count|           100000|           100000|       100000| 98080|\n",
      "|   mean|          49999.5|          50099.5|         NULL|  NULL|\n",
      "| stddev|28867.65779668774|28867.65779668774|         NULL|  NULL|\n",
      "|    min|                0|              100|Aaron Addesso|female|\n",
      "|    max|            99999|           100099|  Zulma Biggs|  male|\n",
      "+-------+-----------------+-----------------+-------------+------+\n",
      "\n"
     ]
    }
   ],
   "source": [
    "people.describe().show()"
   ]
  },
  {
   "cell_type": "markdown",
   "id": "06f04c50-fa3f-44ef-9718-3dc12537fe3c",
   "metadata": {},
   "source": [
    "## Ex. 3 - Inspecting data in PySpark DataFrame\n",
    "\n",
    "Inspecting data is very crucial before performing analysis such as plotting, modeling, training etc. In this simple exercise, you'll inspect the data in the `people` DataFrame that you have created using basic DataFrame operators.\n",
    "\n",
    "**Instructions:**\n",
    "\n",
    "- Print the first 10 observations in the `people_df` DataFrame.\n",
    "- Count the number of rows in the `people_df` DataFrame.\n",
    "- How many columns does `people_df` DataFrame have and what are their names?"
   ]
  },
  {
   "cell_type": "code",
   "execution_count": 29,
   "id": "51181090-7759-4491-98b4-f9c5c782a0e9",
   "metadata": {},
   "outputs": [
    {
     "name": "stdout",
     "output_type": "stream",
     "text": [
      "+---+---------+----------------+------+-------------------+\n",
      "|_c0|person_id|            name|   sex|      date of birth|\n",
      "+---+---------+----------------+------+-------------------+\n",
      "|  0|      100|  Penelope Lewis|female|1990-08-31 00:00:00|\n",
      "|  1|      101|   David Anthony|  male|1971-10-14 00:00:00|\n",
      "|  2|      102|       Ida Shipp|female|1962-05-24 00:00:00|\n",
      "|  3|      103|    Joanna Moore|female|2017-03-10 00:00:00|\n",
      "|  4|      104|  Lisandra Ortiz|female|2020-08-05 00:00:00|\n",
      "|  5|      105|   David Simmons|  male|1999-12-30 00:00:00|\n",
      "|  6|      106|   Edward Hudson|  male|1983-05-09 00:00:00|\n",
      "|  7|      107|    Albert Jones|  male|1990-09-13 00:00:00|\n",
      "|  8|      108|Leonard Cavender|  male|1958-08-08 00:00:00|\n",
      "|  9|      109|  Everett Vadala|  male|2005-05-24 00:00:00|\n",
      "+---+---------+----------------+------+-------------------+\n",
      "only showing top 10 rows\n",
      "\n",
      "There are 100000 rows in the people DataFrame.\n",
      "\n",
      "There are 5 columns in the people DataFrame \n",
      "and their names are ['_c0', 'person_id', 'name', 'sex', 'date of birth']\n",
      "\n"
     ]
    }
   ],
   "source": [
    "# Print the first 10 observations \n",
    "people.show(10)\n",
    "\n",
    "# Count the number of rows \n",
    "print(\"There are {} rows in the people DataFrame.\".format(people.count()))\n",
    "\n",
    "# Count the number of columns and print their names\n",
    "print(f'''\n",
    "There are {len(people.columns)} columns in the people DataFrame \n",
    "and their names are {people.columns}\n",
    "''')"
   ]
  },
  {
   "cell_type": "markdown",
   "id": "408fed24-d37e-4626-925b-9d065a546635",
   "metadata": {},
   "source": [
    "## Ex. 4 - PySpark DataFrame subsetting and cleaning\n",
    "\n",
    "After the data inspection, it is often necessary to clean the data which mainly involves subsetting, renaming the columns, removing duplicated rows etc., PySpark DataFrame API provides several operators to do this. In this exercise, your job is to subset 'name', 'sex' and 'date of birth' columns from people_df DataFrame, remove any duplicate rows from that dataset and count the number of rows before and after duplicates removal step.\n",
    "\n",
    "**Instructions:**\n",
    "\n",
    "1. Select 'name', 'sex', and 'date of birth' columns from `people` and create `people_sub` DataFrame.\n",
    "2. Print the first 10 observations in the `people_sub` DataFrame.\n",
    "3. Remove duplicate entries from `people_sub` DataFrame and create `people_sub_nodup` DataFrame.\n",
    "4. How many rows are there before and after duplicates are removed?"
   ]
  },
  {
   "cell_type": "code",
   "execution_count": 30,
   "id": "4d20ba66-4561-4356-b20e-47e54319094e",
   "metadata": {},
   "outputs": [
    {
     "name": "stdout",
     "output_type": "stream",
     "text": [
      "+----------------+------+-------------------+\n",
      "|            name|   sex|      date of birth|\n",
      "+----------------+------+-------------------+\n",
      "|  Penelope Lewis|female|1990-08-31 00:00:00|\n",
      "|   David Anthony|  male|1971-10-14 00:00:00|\n",
      "|       Ida Shipp|female|1962-05-24 00:00:00|\n",
      "|    Joanna Moore|female|2017-03-10 00:00:00|\n",
      "|  Lisandra Ortiz|female|2020-08-05 00:00:00|\n",
      "|   David Simmons|  male|1999-12-30 00:00:00|\n",
      "|   Edward Hudson|  male|1983-05-09 00:00:00|\n",
      "|    Albert Jones|  male|1990-09-13 00:00:00|\n",
      "|Leonard Cavender|  male|1958-08-08 00:00:00|\n",
      "|  Everett Vadala|  male|2005-05-24 00:00:00|\n",
      "+----------------+------+-------------------+\n",
      "only showing top 10 rows\n",
      "\n",
      "\n",
      "There were 100000 rows before removing duplicates, \n",
      "and 99998 rows after removing duplicates\n",
      "\n"
     ]
    }
   ],
   "source": [
    "# Select name, sex and date of birth columns\n",
    "people_sub = people.select('name', 'sex', 'date of birth')\n",
    "\n",
    "# Print the first 10 observations from people_sub\n",
    "people_sub.show(10)\n",
    "\n",
    "# Remove duplicate entries from people_sub\n",
    "people_sub_nodup = people_sub.dropDuplicates()\n",
    "\n",
    "# Count the number of rows\n",
    "print(f'''\n",
    "There were {people_sub.count()} rows before removing duplicates, \n",
    "and {people_sub_nodup.count()} rows after removing duplicates\n",
    "''')"
   ]
  },
  {
   "cell_type": "markdown",
   "id": "ac591b58-fbe9-4d90-89a7-ad0d8bb2c41c",
   "metadata": {},
   "source": [
    "## Ex. 5 - Filtering your DataFrame\n",
    "\n",
    "In the previous exercise, you have subset the data using `select()` operator which is mainly used to subset the DataFrame column-wise. What if you want to subset the DataFrame based on a condition (for example, select all rows where the sex is Female). In this exercise, you will filter the rows in the `people` DataFrame in which 'sex' is female and male and create two different datasets. Finally, you'll count the number of rows in each of those datasets.\n",
    "\n",
    "**Instructions:**\n",
    "\n",
    "1. Filter the `people` DataFrame to select all rows where sex is female into `people_female` DataFrame.\n",
    "2. Filter the `people` DataFrame to select all rows where sex is male into `people_male` DataFrame.\n",
    "3. Count the number of rows in `people_female` and `people_male` DataFrames."
   ]
  },
  {
   "cell_type": "code",
   "execution_count": 31,
   "id": "582e2bd4-4253-47d7-9b33-6bcaf00bc05b",
   "metadata": {},
   "outputs": [
    {
     "name": "stdout",
     "output_type": "stream",
     "text": [
      "\n",
      "There are 49014 rows in the people_female DataFrame \n",
      "and 49066 rows in the people_male DataFrame\n",
      "\n"
     ]
    }
   ],
   "source": [
    "# Filter people to select females \n",
    "people_female = people.filter(people.sex == \"female\")\n",
    "\n",
    "# Filter people to select males\n",
    "people_male = people.filter(people.sex == \"male\")\n",
    "\n",
    "# Count the number of rows \n",
    "print(f'''\n",
    "There are {people_female.count()} rows in the people_female DataFrame \n",
    "and {people_male.count()} rows in the people_male DataFrame\n",
    "''')"
   ]
  },
  {
   "cell_type": "markdown",
   "id": "f1c14b14-2e97-4b18-aa6d-928cfc0aa5e7",
   "metadata": {},
   "source": [
    "## Interacting with DataFrames using PySpark SQL\n",
    "\n",
    "### Executing SQL Queries"
   ]
  },
  {
   "cell_type": "code",
   "execution_count": 32,
   "id": "a95d4c14-f5b2-45cc-9926-c7aa776b74fc",
   "metadata": {},
   "outputs": [
    {
     "data": {
      "text/plain": [
       "pyspark.sql.dataframe.DataFrame"
      ]
     },
     "execution_count": 32,
     "metadata": {},
     "output_type": "execute_result"
    }
   ],
   "source": [
    "test_data = sc.parallelize([(1, 'row1'), (2, 'row2'), (3, 'row3')])\n",
    "col_names = ['field1', 'field2']\n",
    "\n",
    "test_df = spark.createDataFrame(test_data, schema=col_names)\n",
    "type(test_df)"
   ]
  },
  {
   "cell_type": "code",
   "execution_count": 33,
   "id": "3ecf857a-df22-49b4-b61c-90fc76dd1896",
   "metadata": {},
   "outputs": [
    {
     "data": {
      "text/plain": [
       "[Row(field1=1, field2='row1'),\n",
       " Row(field1=2, field2='row2'),\n",
       " Row(field1=3, field2='row3')]"
      ]
     },
     "execution_count": 33,
     "metadata": {},
     "output_type": "execute_result"
    }
   ],
   "source": [
    "test_df.createOrReplaceTempView(\"test_table\")\n",
    "test_df2 = spark.sql(\"SELECT field1, field2 FROM test_table\")\n",
    "test_df2.collect()"
   ]
  },
  {
   "cell_type": "markdown",
   "id": "3ef19a07-8d46-4d80-94a5-b0eaacc1c3de",
   "metadata": {},
   "source": [
    "### SQL query to extract data"
   ]
  },
  {
   "cell_type": "code",
   "execution_count": 34,
   "id": "ec4276cf-9813-47cc-a904-6f50e7b54d01",
   "metadata": {},
   "outputs": [
    {
     "name": "stdout",
     "output_type": "stream",
     "text": [
      "+---------+\n",
      "|person_id|\n",
      "+---------+\n",
      "|      100|\n",
      "|      101|\n",
      "|      102|\n",
      "|      103|\n",
      "|      104|\n",
      "+---------+\n",
      "only showing top 5 rows\n",
      "\n"
     ]
    }
   ],
   "source": [
    "people.createOrReplaceTempView(\"people\")\n",
    "query = '''SELECT person_id FROM people'''\n",
    "people_df = spark.sql(query)\n",
    "people_df.show(5)"
   ]
  },
  {
   "cell_type": "markdown",
   "id": "dde2307c-9b74-47cf-bc15-5a771cd8d354",
   "metadata": {},
   "source": [
    "### Summarizing and grouping data using SQL queries"
   ]
  },
  {
   "cell_type": "code",
   "execution_count": 35,
   "id": "976e1426-e74c-471d-aa25-5bb51c01d4e6",
   "metadata": {},
   "outputs": [
    {
     "name": "stdout",
     "output_type": "stream",
     "text": [
      "+-----------+--------+\n",
      "|Nationality|max(Age)|\n",
      "+-----------+--------+\n",
      "|       Chad|      26|\n",
      "|     Russia|      37|\n",
      "|   Paraguay|      37|\n",
      "|    Senegal|      34|\n",
      "|     Sweden|      37|\n",
      "+-----------+--------+\n",
      "only showing top 5 rows\n",
      "\n"
     ]
    }
   ],
   "source": [
    "fifa.createOrReplaceTempView(\"fifa\")\n",
    "query = '''SELECT Nationality, max(Age) FROM fifa GROUP BY Nationality'''\n",
    "spark.sql(query).show(5)"
   ]
  },
  {
   "cell_type": "markdown",
   "id": "c4eb6324-f88b-410b-a850-6a077d6f3682",
   "metadata": {},
   "source": [
    "### Filtering columns using SQL queries"
   ]
  },
  {
   "cell_type": "code",
   "execution_count": 36,
   "id": "920db3b3-20f8-45a6-b536-a35fc0ff778f",
   "metadata": {},
   "outputs": [
    {
     "name": "stdout",
     "output_type": "stream",
     "text": [
      "+---+-----------+---------+\n",
      "|Age|Nationality|Potential|\n",
      "+---+-----------+---------+\n",
      "| 26|      Spain|       92|\n",
      "| 31|      Spain|       90|\n",
      "| 26|      Spain|       90|\n",
      "| 31|      Spain|       87|\n",
      "| 30|      Spain|       87|\n",
      "+---+-----------+---------+\n",
      "only showing top 5 rows\n",
      "\n"
     ]
    }
   ],
   "source": [
    "fifa.createOrReplaceTempView(\"fifa\")\n",
    "query = \"SELECT Age, Nationality, Potential FROM fifa WHERE Potential > 85 AND Nationality == 'Spain'\"\n",
    "spark.sql(query).show(5)"
   ]
  },
  {
   "cell_type": "markdown",
   "id": "0a441039-bf04-4e92-9c3c-c9c8cbea78e4",
   "metadata": {},
   "source": [
    "## Ex. 6 - Running SQL Queries Programmatically\n",
    "\n",
    "DataFrames can be easily manipulated using SQL queries in PySpark. The `sql()` function in a SparkSession enables applications to run SQL queries programmatically and returns the result as another DataFrame. In this exercise, you'll create a temporary table of DataFrame that you have created previously, then construct a query to select the names of the people from the temporary table and assign the result to a new DataFrame.\n",
    "\n",
    "**Instructions:**\n",
    "\n",
    "1. Create a temporary table `people`.\n",
    "2. Construct a query to select the names of the people from the temporary table `people`.\n",
    "3. Assign the result of Spark's query to a new DataFrame - `people_names`.\n",
    "4. Print the top 10 names of the people from `people_names` DataFrame."
   ]
  },
  {
   "cell_type": "code",
   "execution_count": 37,
   "id": "e5462fd6-7bb1-4619-8f37-c9e390564cb8",
   "metadata": {},
   "outputs": [
    {
     "name": "stdout",
     "output_type": "stream",
     "text": [
      "+----------------+\n",
      "|            name|\n",
      "+----------------+\n",
      "|  Penelope Lewis|\n",
      "|   David Anthony|\n",
      "|       Ida Shipp|\n",
      "|    Joanna Moore|\n",
      "|  Lisandra Ortiz|\n",
      "|   David Simmons|\n",
      "|   Edward Hudson|\n",
      "|    Albert Jones|\n",
      "|Leonard Cavender|\n",
      "|  Everett Vadala|\n",
      "+----------------+\n",
      "only showing top 10 rows\n",
      "\n"
     ]
    }
   ],
   "source": [
    "# Create a temporary table \"people\"\n",
    "people.createOrReplaceTempView(\"people\")\n",
    "\n",
    "# Construct a query to select the names of the people from the temporary table \"people\"\n",
    "query = '''SELECT name FROM people'''\n",
    "\n",
    "# Assign the result of Spark's query to people_names\n",
    "people_names = spark.sql(query)\n",
    "\n",
    "# Print the top 10 names of the people\n",
    "people_names.show(10)"
   ]
  },
  {
   "cell_type": "markdown",
   "id": "b7ef09ae-d03a-452c-94de-796fbc1a1086",
   "metadata": {},
   "source": [
    "## Ex. 7 - SQL queries for filtering Table\n",
    "\n",
    "In the previous exercise, you have run a simple SQL query on a DataFrame. There are more sophisticated queries you can construct to obtain the result that you want and use it for downstream analysis such as data visualization and Machine Learning. In this exercise, we will use the temporary table people that you have created previously, filter out the rows where the \"sex\" is male and female and create two DataFrames.\n",
    "\n",
    "**Instructions:**\n",
    "\n",
    "1. Filter the `people` table to select all rows where sex is female into `people_female` DataFrame.\n",
    "2. Filter the `people` table to select all rows where sex is male into `people_male` DataFrame.\n",
    "3. Count the number of rows in both `people_female` and `people_male` DataFrames."
   ]
  },
  {
   "cell_type": "code",
   "execution_count": 38,
   "id": "a22419ea-049d-4539-801b-00c1351edfa1",
   "metadata": {},
   "outputs": [
    {
     "name": "stdout",
     "output_type": "stream",
     "text": [
      "\n",
      "There are 49014 rows in the people_female \n",
      "and 49066 rows in the people_male DataFrames.\n",
      "\n"
     ]
    }
   ],
   "source": [
    "# Filter the people table to select female sex \n",
    "people_female = spark.sql('SELECT * FROM people WHERE sex==\"female\"')\n",
    "\n",
    "# Filter the people table DataFrame to select male sex\n",
    "people_male = spark.sql('SELECT * FROM people WHERE sex==\"male\"')\n",
    "\n",
    "# Count the number of rows in both people_female and people_male DataFrames\n",
    "print(f'''\n",
    "There are {people_female.count()} rows in the people_female \n",
    "and {people_male.count()} rows in the people_male DataFrames.\n",
    "''')"
   ]
  },
  {
   "cell_type": "markdown",
   "id": "aba9a101-976d-41dd-bbcb-7475292d1581",
   "metadata": {},
   "source": [
    "## Data Visualization in PySpark using DataFrames\n",
    "\n",
    "### Data Visualization using Pyspark_dist_explore\n",
    "\n",
    "- `Pyspark_dist_explore` library provides quick insights into DataFrames\n",
    "- Currently three functions available : `hist()` , `distplot()` , and `pandas_histogram()`"
   ]
  },
  {
   "cell_type": "code",
   "execution_count": 39,
   "id": "6bed1f8c-a269-4cda-afdc-4d13513a12f2",
   "metadata": {},
   "outputs": [
    {
     "data": {
      "image/png": "[encoded data removed]",
      "text/plain": [
       "<Figure size 640x480 with 1 Axes>"
      ]
     },
     "metadata": {},
     "output_type": "display_data"
    }
   ],
   "source": [
    "fifa_age = fifa.select('Age')\n",
    "\n",
    "fig, ax = plt.subplots()\n",
    "_ = hist(ax, fifa_age, bins = 20, color=\"red\")"
   ]
  },
  {
   "cell_type": "markdown",
   "id": "029fed60-2869-4b74-997b-ff0571117dda",
   "metadata": {},
   "source": [
    "### Using Pandas for plotting DataFrames\n",
    "\n",
    "- It's easy to create charts from pandas DataFrames\n",
    "- Note: When you have large volumes of data, using toPandas() isn't recommended"
   ]
  },
  {
   "cell_type": "code",
   "execution_count": 40,
   "id": "a729b02d-d6fe-4558-8c46-c46e85254dc7",
   "metadata": {},
   "outputs": [
    {
     "data": {
      "image/png": "[encoded data removed]",
      "text/plain": [
       "<Figure size 640x480 with 1 Axes>"
      ]
     },
     "metadata": {},
     "output_type": "display_data"
    }
   ],
   "source": [
    "fifa_pandas = fifa.toPandas()\n",
    "_ = fifa_pandas.hist('Age')"
   ]
  },
  {
   "cell_type": "markdown",
   "id": "e4cb4e53-2d69-49b8-9089-9f70b83af20b",
   "metadata": {},
   "source": [
    "### HandySpark method of visualization\n",
    "\n",
    "- HandySpark is a package designed to improve PySpark user experience\n",
    "    - Easy data fetching\n",
    "    - Distributed computation retained"
   ]
  },
  {
   "cell_type": "code",
   "execution_count": 41,
   "id": "b227db6b-1e95-42d1-b538-1457aac3eb8c",
   "metadata": {},
   "outputs": [
    {
     "data": {
      "image/png": "[encoded data removed]",
      "text/plain": [
       "<Figure size 640x480 with 1 Axes>"
      ]
     },
     "metadata": {},
     "output_type": "display_data"
    }
   ],
   "source": [
    "hdf = fifa.toHandy()\n",
    "_ = hdf.cols[\"Age\"].hist()"
   ]
  },
  {
   "cell_type": "markdown",
   "id": "6927c1e1-1145-4ebf-b532-b0cfa15855e1",
   "metadata": {},
   "source": [
    "## Ex. 8 - PySpark DataFrame visualization\n",
    "Graphical representations or visualization of data is imperative for understanding as well as interpreting the data. In this simple data visualization exercise, you'll first print the column names of `names_df` DataFrame that you have created earlier, then convert the `names_df` to Pandas DataFrame, and finally plot the contents as horizontal bar plot with names of the people on the x-axis and their age on the y-axis.\n",
    "\n",
    "**Instructions:**\n",
    "\n",
    "1. Print the names of the columns in `names_df` DataFrame.\n",
    "2. Convert `names_df` DataFrame to `df_pandas` Pandas DataFrame.\n",
    "3. Use matplotlib's `plot()` method to create a horizontal bar plot with `'Name'` on x-axis and `'Age'` on y-axis."
   ]
  },
  {
   "cell_type": "code",
   "execution_count": 42,
   "id": "e1f66bcc-a67b-4d91-a0e5-cab41935b9dc",
   "metadata": {},
   "outputs": [
    {
     "data": {
      "text/html": [
       "<table border='1'>\n",
       "<tr><th>Name</th><th>Age</th></tr>\n",
       "<tr><td>Cristiano Ronaldo</td><td>32</td></tr>\n",
       "<tr><td>L. Messi</td><td>30</td></tr>\n",
       "<tr><td>Neymar</td><td>25</td></tr>\n",
       "<tr><td>L. Su&aacute;rez</td><td>30</td></tr>\n",
       "<tr><td>M. Neuer</td><td>31</td></tr>\n",
       "</table>\n"
      ],
      "text/plain": [
       "+-----------------+---+\n",
       "|             Name|Age|\n",
       "+-----------------+---+\n",
       "|Cristiano Ronaldo| 32|\n",
       "|         L. Messi| 30|\n",
       "|           Neymar| 25|\n",
       "|        L. Suárez| 30|\n",
       "|         M. Neuer| 31|\n",
       "+-----------------+---+"
      ]
     },
     "execution_count": 42,
     "metadata": {},
     "output_type": "execute_result"
    }
   ],
   "source": [
    "names_df = fifa.select('Name', 'Age').limit(5)\n",
    "names_df"
   ]
  },
  {
   "cell_type": "code",
   "execution_count": 43,
   "id": "618e74ef-aafd-4ba3-b2f0-2e1f78433dcb",
   "metadata": {},
   "outputs": [
    {
     "name": "stdout",
     "output_type": "stream",
     "text": [
      "The column names of names_df are ['Name', 'Age']\n"
     ]
    },
    {
     "data": {
      "image/png": "[encoded data removed]",
      "text/plain": [
       "<Figure size 640x480 with 1 Axes>"
      ]
     },
     "metadata": {},
     "output_type": "display_data"
    }
   ],
   "source": [
    "# Check the column names of names_df\n",
    "print(\"The column names of names_df are\", names_df.columns)\n",
    "\n",
    "# Convert to Pandas DataFrame  \n",
    "df_pandas = names_df.toPandas()\n",
    "\n",
    "# Create a horizontal bar plot\n",
    "df_pandas.plot(kind='barh', x='Name', y='Age', colormap='winter_r')\n",
    "plt.show()"
   ]
  },
  {
   "cell_type": "markdown",
   "id": "df79ff2e-c452-4d54-b932-16bb81a34c30",
   "metadata": {},
   "source": [
    "## Ex. 9 - Part 1: Create a DataFrame from CSV file\n",
    "\n",
    "Every 4 years, soccer fans throughout the world celebrate a festival called “Fifa World Cup” and with that, everything seems to change in many countries. In this 3 part exercise, you'll be doing some exploratory data analysis (EDA) on the \"FIFA 2018 World Cup Player\" dataset using PySpark SQL which involves DataFrame operations, SQL queries, and visualization.\n",
    "\n",
    "In the first part, you'll load FIFA 2018 World Cup Players dataset (Fifa2018_dataset.csv), which is in CSV format, into a PySpark's dataFrame and inspect the data using basic DataFrame operations.\n",
    "\n",
    "**Instructions:**\n",
    "\n",
    "1. Create a `PySpark` DataFrame from `file_path` (which is the path to the `Fifa2018_dataset.csv` file).\n",
    "2. Print the schema of the DataFrame.\n",
    "3. Print the first 10 observations.\n",
    "4. How many rows are in there in the DataFrame?"
   ]
  },
  {
   "cell_type": "code",
   "execution_count": 44,
   "id": "e5f39213-489b-4ca0-ad7b-b749b9fe8177",
   "metadata": {},
   "outputs": [
    {
     "name": "stdout",
     "output_type": "stream",
     "text": [
      "root\n",
      " |-- _c0: integer (nullable = true)\n",
      " |-- Name: string (nullable = true)\n",
      " |-- Age: integer (nullable = true)\n",
      " |-- Photo: string (nullable = true)\n",
      " |-- Nationality: string (nullable = true)\n",
      " |-- Flag: string (nullable = true)\n",
      " |-- Overall: integer (nullable = true)\n",
      " |-- Potential: integer (nullable = true)\n",
      " |-- Club: string (nullable = true)\n",
      " |-- Club Logo: string (nullable = true)\n",
      " |-- Value: string (nullable = true)\n",
      " |-- Wage: string (nullable = true)\n",
      " |-- Special: integer (nullable = true)\n",
      " |-- Acceleration: string (nullable = true)\n",
      " |-- Aggression: string (nullable = true)\n",
      " |-- Agility: string (nullable = true)\n",
      " |-- Balance: string (nullable = true)\n",
      " |-- Ball control: string (nullable = true)\n",
      " |-- Composure: string (nullable = true)\n",
      " |-- Crossing: string (nullable = true)\n",
      " |-- Curve: string (nullable = true)\n",
      " |-- Dribbling: string (nullable = true)\n",
      " |-- Finishing: string (nullable = true)\n",
      " |-- Free kick accuracy: string (nullable = true)\n",
      " |-- GK diving: string (nullable = true)\n",
      " |-- GK handling: string (nullable = true)\n",
      " |-- GK kicking: string (nullable = true)\n",
      " |-- GK positioning: string (nullable = true)\n",
      " |-- GK reflexes: string (nullable = true)\n",
      " |-- Heading accuracy: string (nullable = true)\n",
      " |-- Interceptions: string (nullable = true)\n",
      " |-- Jumping: string (nullable = true)\n",
      " |-- Long passing: string (nullable = true)\n",
      " |-- Long shots: string (nullable = true)\n",
      " |-- Marking: string (nullable = true)\n",
      " |-- Penalties: string (nullable = true)\n",
      " |-- Positioning: string (nullable = true)\n",
      " |-- Reactions: string (nullable = true)\n",
      " |-- Short passing: string (nullable = true)\n",
      " |-- Shot power: string (nullable = true)\n",
      " |-- Sliding tackle: string (nullable = true)\n",
      " |-- Sprint speed: string (nullable = true)\n",
      " |-- Stamina: string (nullable = true)\n",
      " |-- Standing tackle: string (nullable = true)\n",
      " |-- Strength: string (nullable = true)\n",
      " |-- Vision: string (nullable = true)\n",
      " |-- Volleys: string (nullable = true)\n",
      " |-- CAM: double (nullable = true)\n",
      " |-- CB: double (nullable = true)\n",
      " |-- CDM: double (nullable = true)\n",
      " |-- CF: double (nullable = true)\n",
      " |-- CM: double (nullable = true)\n",
      " |-- ID: integer (nullable = true)\n",
      " |-- LAM: double (nullable = true)\n",
      " |-- LB: double (nullable = true)\n",
      " |-- LCB: double (nullable = true)\n",
      " |-- LCM: double (nullable = true)\n",
      " |-- LDM: double (nullable = true)\n",
      " |-- LF: double (nullable = true)\n",
      " |-- LM: double (nullable = true)\n",
      " |-- LS: double (nullable = true)\n",
      " |-- LW: double (nullable = true)\n",
      " |-- LWB: double (nullable = true)\n",
      " |-- Preferred Positions: string (nullable = true)\n",
      " |-- RAM: double (nullable = true)\n",
      " |-- RB: double (nullable = true)\n",
      " |-- RCB: double (nullable = true)\n",
      " |-- RCM: double (nullable = true)\n",
      " |-- RDM: double (nullable = true)\n",
      " |-- RF: double (nullable = true)\n",
      " |-- RM: double (nullable = true)\n",
      " |-- RS: double (nullable = true)\n",
      " |-- RW: double (nullable = true)\n",
      " |-- RWB: double (nullable = true)\n",
      " |-- ST: double (nullable = true)\n",
      "\n"
     ]
    }
   ],
   "source": [
    "# Load the Dataframe\n",
    "file_path = 'data-sources/Fifa2018_dataset.csv'\n",
    "fifa_df = spark.read.csv(file_path, header=True, inferSchema=True)\n",
    "\n",
    "# Check the schema of columns\n",
    "fifa_df.printSchema()"
   ]
  },
  {
   "cell_type": "code",
   "execution_count": 45,
   "id": "8a057cc6-638d-43c9-9867-34e86d77297a",
   "metadata": {},
   "outputs": [
    {
     "data": {
      "text/html": [
       "<table border='1'>\n",
       "<tr><th>_c0</th><th>Name</th><th>Age</th><th>Photo</th><th>Nationality</th><th>Flag</th><th>Overall</th><th>Potential</th><th>Club</th><th>Club Logo</th><th>Value</th><th>Wage</th><th>Special</th><th>Acceleration</th><th>Aggression</th><th>Agility</th><th>Balance</th><th>Ball control</th><th>Composure</th><th>Crossing</th><th>Curve</th><th>Dribbling</th><th>Finishing</th><th>Free kick accuracy</th><th>GK diving</th><th>GK handling</th><th>GK kicking</th><th>GK positioning</th><th>GK reflexes</th><th>Heading accuracy</th><th>Interceptions</th><th>Jumping</th><th>Long passing</th><th>Long shots</th><th>Marking</th><th>Penalties</th><th>Positioning</th><th>Reactions</th><th>Short passing</th><th>Shot power</th><th>Sliding tackle</th><th>Sprint speed</th><th>Stamina</th><th>Standing tackle</th><th>Strength</th><th>Vision</th><th>Volleys</th><th>CAM</th><th>CB</th><th>CDM</th><th>CF</th><th>CM</th><th>ID</th><th>LAM</th><th>LB</th><th>LCB</th><th>LCM</th><th>LDM</th><th>LF</th><th>LM</th><th>LS</th><th>LW</th><th>LWB</th><th>Preferred Positions</th><th>RAM</th><th>RB</th><th>RCB</th><th>RCM</th><th>RDM</th><th>RF</th><th>RM</th><th>RS</th><th>RW</th><th>RWB</th><th>ST</th></tr>\n",
       "<tr><td>0</td><td>Cristiano Ronaldo</td><td>32</td><td>https://cdn.sofif...</td><td>Portugal</td><td>https://cdn.sofif...</td><td>94</td><td>94</td><td>Real Madrid CF</td><td>https://cdn.sofif...</td><td>&euro;95.5M</td><td>&euro;565K</td><td>2228</td><td>89</td><td>63</td><td>89</td><td>63</td><td>93</td><td>95</td><td>85</td><td>81</td><td>91</td><td>94</td><td>76</td><td>7</td><td>11</td><td>15</td><td>14</td><td>11</td><td>88</td><td>29</td><td>95</td><td>77</td><td>92</td><td>22</td><td>85</td><td>95</td><td>96</td><td>83</td><td>94</td><td>23</td><td>91</td><td>92</td><td>31</td><td>80</td><td>85</td><td>88</td><td>89.0</td><td>53.0</td><td>62.0</td><td>91.0</td><td>82.0</td><td>20801</td><td>89.0</td><td>61.0</td><td>53.0</td><td>82.0</td><td>62.0</td><td>91.0</td><td>89.0</td><td>92.0</td><td>91.0</td><td>66.0</td><td>ST LW </td><td>89.0</td><td>61.0</td><td>53.0</td><td>82.0</td><td>62.0</td><td>91.0</td><td>89.0</td><td>92.0</td><td>91.0</td><td>66.0</td><td>92.0</td></tr>\n",
       "<tr><td>1</td><td>L. Messi</td><td>30</td><td>https://cdn.sofif...</td><td>Argentina</td><td>https://cdn.sofif...</td><td>93</td><td>93</td><td>FC Barcelona</td><td>https://cdn.sofif...</td><td>&euro;105M</td><td>&euro;565K</td><td>2154</td><td>92</td><td>48</td><td>90</td><td>95</td><td>95</td><td>96</td><td>77</td><td>89</td><td>97</td><td>95</td><td>90</td><td>6</td><td>11</td><td>15</td><td>14</td><td>8</td><td>71</td><td>22</td><td>68</td><td>87</td><td>88</td><td>13</td><td>74</td><td>93</td><td>95</td><td>88</td><td>85</td><td>26</td><td>87</td><td>73</td><td>28</td><td>59</td><td>90</td><td>85</td><td>92.0</td><td>45.0</td><td>59.0</td><td>92.0</td><td>84.0</td><td>158023</td><td>92.0</td><td>57.0</td><td>45.0</td><td>84.0</td><td>59.0</td><td>92.0</td><td>90.0</td><td>88.0</td><td>91.0</td><td>62.0</td><td>RW </td><td>92.0</td><td>57.0</td><td>45.0</td><td>84.0</td><td>59.0</td><td>92.0</td><td>90.0</td><td>88.0</td><td>91.0</td><td>62.0</td><td>88.0</td></tr>\n",
       "<tr><td>2</td><td>Neymar</td><td>25</td><td>https://cdn.sofif...</td><td>Brazil</td><td>https://cdn.sofif...</td><td>92</td><td>94</td><td>Paris Saint-Germain</td><td>https://cdn.sofif...</td><td>&euro;123M</td><td>&euro;280K</td><td>2100</td><td>94</td><td>56</td><td>96</td><td>82</td><td>95</td><td>92</td><td>75</td><td>81</td><td>96</td><td>89</td><td>84</td><td>9</td><td>9</td><td>15</td><td>15</td><td>11</td><td>62</td><td>36</td><td>61</td><td>75</td><td>77</td><td>21</td><td>81</td><td>90</td><td>88</td><td>81</td><td>80</td><td>33</td><td>90</td><td>78</td><td>24</td><td>53</td><td>80</td><td>83</td><td>88.0</td><td>46.0</td><td>59.0</td><td>88.0</td><td>79.0</td><td>190871</td><td>88.0</td><td>59.0</td><td>46.0</td><td>79.0</td><td>59.0</td><td>88.0</td><td>87.0</td><td>84.0</td><td>89.0</td><td>64.0</td><td>LW </td><td>88.0</td><td>59.0</td><td>46.0</td><td>79.0</td><td>59.0</td><td>88.0</td><td>87.0</td><td>84.0</td><td>89.0</td><td>64.0</td><td>84.0</td></tr>\n",
       "<tr><td>3</td><td>L. Su&aacute;rez</td><td>30</td><td>https://cdn.sofif...</td><td>Uruguay</td><td>https://cdn.sofif...</td><td>92</td><td>92</td><td>FC Barcelona</td><td>https://cdn.sofif...</td><td>&euro;97M</td><td>&euro;510K</td><td>2291</td><td>88</td><td>78</td><td>86</td><td>60</td><td>91</td><td>83</td><td>77</td><td>86</td><td>86</td><td>94</td><td>84</td><td>27</td><td>25</td><td>31</td><td>33</td><td>37</td><td>77</td><td>41</td><td>69</td><td>64</td><td>86</td><td>30</td><td>85</td><td>92</td><td>93</td><td>83</td><td>87</td><td>38</td><td>77</td><td>89</td><td>45</td><td>80</td><td>84</td><td>88</td><td>87.0</td><td>58.0</td><td>65.0</td><td>88.0</td><td>80.0</td><td>176580</td><td>87.0</td><td>64.0</td><td>58.0</td><td>80.0</td><td>65.0</td><td>88.0</td><td>85.0</td><td>88.0</td><td>87.0</td><td>68.0</td><td>ST </td><td>87.0</td><td>64.0</td><td>58.0</td><td>80.0</td><td>65.0</td><td>88.0</td><td>85.0</td><td>88.0</td><td>87.0</td><td>68.0</td><td>88.0</td></tr>\n",
       "<tr><td>4</td><td>M. Neuer</td><td>31</td><td>https://cdn.sofif...</td><td>Germany</td><td>https://cdn.sofif...</td><td>92</td><td>92</td><td>FC Bayern Munich</td><td>https://cdn.sofif...</td><td>&euro;61M</td><td>&euro;230K</td><td>1493</td><td>58</td><td>29</td><td>52</td><td>35</td><td>48</td><td>70</td><td>15</td><td>14</td><td>30</td><td>13</td><td>11</td><td>91</td><td>90</td><td>95</td><td>91</td><td>89</td><td>25</td><td>30</td><td>78</td><td>59</td><td>16</td><td>10</td><td>47</td><td>12</td><td>85</td><td>55</td><td>25</td><td>11</td><td>61</td><td>44</td><td>10</td><td>83</td><td>70</td><td>11</td><td>NULL</td><td>NULL</td><td>NULL</td><td>NULL</td><td>NULL</td><td>167495</td><td>NULL</td><td>NULL</td><td>NULL</td><td>NULL</td><td>NULL</td><td>NULL</td><td>NULL</td><td>NULL</td><td>NULL</td><td>NULL</td><td>GK </td><td>NULL</td><td>NULL</td><td>NULL</td><td>NULL</td><td>NULL</td><td>NULL</td><td>NULL</td><td>NULL</td><td>NULL</td><td>NULL</td><td>NULL</td></tr>\n",
       "<tr><td>5</td><td>R. Lewandowski</td><td>28</td><td>https://cdn.sofif...</td><td>Poland</td><td>https://cdn.sofif...</td><td>91</td><td>91</td><td>FC Bayern Munich</td><td>https://cdn.sofif...</td><td>&euro;92M</td><td>&euro;355K</td><td>2143</td><td>79</td><td>80</td><td>78</td><td>80</td><td>89</td><td>87</td><td>62</td><td>77</td><td>85</td><td>91</td><td>84</td><td>15</td><td>6</td><td>12</td><td>8</td><td>10</td><td>85</td><td>39</td><td>84</td><td>65</td><td>83</td><td>25</td><td>81</td><td>91</td><td>91</td><td>83</td><td>88</td><td>19</td><td>83</td><td>79</td><td>42</td><td>84</td><td>78</td><td>87</td><td>84.0</td><td>57.0</td><td>62.0</td><td>87.0</td><td>78.0</td><td>188545</td><td>84.0</td><td>58.0</td><td>57.0</td><td>78.0</td><td>62.0</td><td>87.0</td><td>82.0</td><td>88.0</td><td>84.0</td><td>61.0</td><td>ST </td><td>84.0</td><td>58.0</td><td>57.0</td><td>78.0</td><td>62.0</td><td>87.0</td><td>82.0</td><td>88.0</td><td>84.0</td><td>61.0</td><td>88.0</td></tr>\n",
       "<tr><td>6</td><td>De Gea</td><td>26</td><td>https://cdn.sofif...</td><td>Spain</td><td>https://cdn.sofif...</td><td>90</td><td>92</td><td>Manchester United</td><td>https://cdn.sofif...</td><td>&euro;64.5M</td><td>&euro;215K</td><td>1458</td><td>57</td><td>38</td><td>60</td><td>43</td><td>42</td><td>64</td><td>17</td><td>21</td><td>18</td><td>13</td><td>19</td><td>90</td><td>85</td><td>87</td><td>86</td><td>90</td><td>21</td><td>30</td><td>67</td><td>51</td><td>12</td><td>13</td><td>40</td><td>12</td><td>88</td><td>50</td><td>31</td><td>13</td><td>58</td><td>40</td><td>21</td><td>64</td><td>68</td><td>13</td><td>NULL</td><td>NULL</td><td>NULL</td><td>NULL</td><td>NULL</td><td>193080</td><td>NULL</td><td>NULL</td><td>NULL</td><td>NULL</td><td>NULL</td><td>NULL</td><td>NULL</td><td>NULL</td><td>NULL</td><td>NULL</td><td>GK </td><td>NULL</td><td>NULL</td><td>NULL</td><td>NULL</td><td>NULL</td><td>NULL</td><td>NULL</td><td>NULL</td><td>NULL</td><td>NULL</td><td>NULL</td></tr>\n",
       "<tr><td>7</td><td>E. Hazard</td><td>26</td><td>https://cdn.sofif...</td><td>Belgium</td><td>https://cdn.sofif...</td><td>90</td><td>91</td><td>Chelsea</td><td>https://cdn.sofif...</td><td>&euro;90.5M</td><td>&euro;295K</td><td>2096</td><td>93</td><td>54</td><td>93</td><td>91</td><td>92</td><td>87</td><td>80</td><td>82</td><td>93</td><td>83</td><td>79</td><td>11</td><td>12</td><td>6</td><td>8</td><td>8</td><td>57</td><td>41</td><td>59</td><td>81</td><td>82</td><td>25</td><td>86</td><td>85</td><td>85</td><td>86</td><td>79</td><td>22</td><td>87</td><td>79</td><td>27</td><td>65</td><td>86</td><td>79</td><td>88.0</td><td>47.0</td><td>61.0</td><td>87.0</td><td>81.0</td><td>183277</td><td>88.0</td><td>59.0</td><td>47.0</td><td>81.0</td><td>61.0</td><td>87.0</td><td>87.0</td><td>82.0</td><td>88.0</td><td>64.0</td><td>LW </td><td>88.0</td><td>59.0</td><td>47.0</td><td>81.0</td><td>61.0</td><td>87.0</td><td>87.0</td><td>82.0</td><td>88.0</td><td>64.0</td><td>82.0</td></tr>\n",
       "<tr><td>8</td><td>T. Kroos</td><td>27</td><td>https://cdn.sofif...</td><td>Germany</td><td>https://cdn.sofif...</td><td>90</td><td>90</td><td>Real Madrid CF</td><td>https://cdn.sofif...</td><td>&euro;79M</td><td>&euro;340K</td><td>2165</td><td>60</td><td>60</td><td>71</td><td>69</td><td>89</td><td>85</td><td>85</td><td>85</td><td>79</td><td>76</td><td>84</td><td>10</td><td>11</td><td>13</td><td>7</td><td>10</td><td>54</td><td>85</td><td>32</td><td>93</td><td>90</td><td>63</td><td>73</td><td>79</td><td>86</td><td>90</td><td>87</td><td>69</td><td>52</td><td>77</td><td>82</td><td>74</td><td>88</td><td>82</td><td>83.0</td><td>72.0</td><td>82.0</td><td>81.0</td><td>87.0</td><td>182521</td><td>83.0</td><td>76.0</td><td>72.0</td><td>87.0</td><td>82.0</td><td>81.0</td><td>81.0</td><td>77.0</td><td>80.0</td><td>78.0</td><td>CDM CM </td><td>83.0</td><td>76.0</td><td>72.0</td><td>87.0</td><td>82.0</td><td>81.0</td><td>81.0</td><td>77.0</td><td>80.0</td><td>78.0</td><td>77.0</td></tr>\n",
       "<tr><td>9</td><td>G. Higua&iacute;n</td><td>29</td><td>https://cdn.sofif...</td><td>Argentina</td><td>https://cdn.sofif...</td><td>90</td><td>90</td><td>Juventus</td><td>https://cdn.sofif...</td><td>&euro;77M</td><td>&euro;275K</td><td>1961</td><td>78</td><td>50</td><td>75</td><td>69</td><td>85</td><td>86</td><td>68</td><td>74</td><td>84</td><td>91</td><td>62</td><td>5</td><td>12</td><td>7</td><td>5</td><td>10</td><td>86</td><td>20</td><td>79</td><td>59</td><td>82</td><td>12</td><td>70</td><td>92</td><td>88</td><td>75</td><td>88</td><td>18</td><td>80</td><td>72</td><td>22</td><td>85</td><td>70</td><td>88</td><td>81.0</td><td>46.0</td><td>52.0</td><td>84.0</td><td>71.0</td><td>167664</td><td>81.0</td><td>51.0</td><td>46.0</td><td>71.0</td><td>52.0</td><td>84.0</td><td>79.0</td><td>87.0</td><td>82.0</td><td>55.0</td><td>ST </td><td>81.0</td><td>51.0</td><td>46.0</td><td>71.0</td><td>52.0</td><td>84.0</td><td>79.0</td><td>87.0</td><td>82.0</td><td>55.0</td><td>87.0</td></tr>\n",
       "</table>\n"
      ],
      "text/plain": [
       "+---+-----------------+---+--------------------+-----------+--------------------+-------+---------+-------------------+--------------------+------+-----+-------+------------+----------+-------+-------+------------+---------+--------+-----+---------+---------+------------------+---------+-----------+----------+--------------+-----------+----------------+-------------+-------+------------+----------+-------+---------+-----------+---------+-------------+----------+--------------+------------+-------+---------------+--------+------+-------+----+----+----+----+----+------+----+----+----+----+----+----+----+----+----+----+-------------------+----+----+----+----+----+----+----+----+----+----+----+\n",
       "|_c0|             Name|Age|               Photo|Nationality|                Flag|Overall|Potential|               Club|           Club Logo| Value| Wage|Special|Acceleration|Aggression|Agility|Balance|Ball control|Composure|Crossing|Curve|Dribbling|Finishing|Free kick accuracy|GK diving|GK handling|GK kicking|GK positioning|GK reflexes|Heading accuracy|Interceptions|Jumping|Long passing|Long shots|Marking|Penalties|Positioning|Reactions|Short passing|Shot power|Sliding tackle|Sprint speed|Stamina|Standing tackle|Strength|Vision|Volleys| CAM|  CB| CDM|  CF|  CM|    ID| LAM|  LB| LCB| LCM| LDM|  LF|  LM|  LS|  LW| LWB|Preferred Positions| RAM|  RB| RCB| RCM| RDM|  RF|  RM|  RS|  RW| RWB|  ST|\n",
       "+---+-----------------+---+--------------------+-----------+--------------------+-------+---------+-------------------+--------------------+------+-----+-------+------------+----------+-------+-------+------------+---------+--------+-----+---------+---------+------------------+---------+-----------+----------+--------------+-----------+----------------+-------------+-------+------------+----------+-------+---------+-----------+---------+-------------+----------+--------------+------------+-------+---------------+--------+------+-------+----+----+----+----+----+------+----+----+----+----+----+----+----+----+----+----+-------------------+----+----+----+----+----+----+----+----+----+----+----+\n",
       "|  0|Cristiano Ronaldo| 32|https://cdn.sofif...|   Portugal|https://cdn.sofif...|     94|       94|     Real Madrid CF|https://cdn.sofif...|€95.5M|€565K|   2228|          89|        63|     89|     63|          93|       95|      85|   81|       91|       94|                76|        7|         11|        15|            14|         11|              88|           29|     95|          77|        92|     22|       85|         95|       96|           83|        94|            23|          91|     92|             31|      80|    85|     88|89.0|53.0|62.0|91.0|82.0| 20801|89.0|61.0|53.0|82.0|62.0|91.0|89.0|92.0|91.0|66.0|             ST LW |89.0|61.0|53.0|82.0|62.0|91.0|89.0|92.0|91.0|66.0|92.0|\n",
       "|  1|         L. Messi| 30|https://cdn.sofif...|  Argentina|https://cdn.sofif...|     93|       93|       FC Barcelona|https://cdn.sofif...| €105M|€565K|   2154|          92|        48|     90|     95|          95|       96|      77|   89|       97|       95|                90|        6|         11|        15|            14|          8|              71|           22|     68|          87|        88|     13|       74|         93|       95|           88|        85|            26|          87|     73|             28|      59|    90|     85|92.0|45.0|59.0|92.0|84.0|158023|92.0|57.0|45.0|84.0|59.0|92.0|90.0|88.0|91.0|62.0|                RW |92.0|57.0|45.0|84.0|59.0|92.0|90.0|88.0|91.0|62.0|88.0|\n",
       "|  2|           Neymar| 25|https://cdn.sofif...|     Brazil|https://cdn.sofif...|     92|       94|Paris Saint-Germain|https://cdn.sofif...| €123M|€280K|   2100|          94|        56|     96|     82|          95|       92|      75|   81|       96|       89|                84|        9|          9|        15|            15|         11|              62|           36|     61|          75|        77|     21|       81|         90|       88|           81|        80|            33|          90|     78|             24|      53|    80|     83|88.0|46.0|59.0|88.0|79.0|190871|88.0|59.0|46.0|79.0|59.0|88.0|87.0|84.0|89.0|64.0|                LW |88.0|59.0|46.0|79.0|59.0|88.0|87.0|84.0|89.0|64.0|84.0|\n",
       "|  3|        L. Suárez| 30|https://cdn.sofif...|    Uruguay|https://cdn.sofif...|     92|       92|       FC Barcelona|https://cdn.sofif...|  €97M|€510K|   2291|          88|        78|     86|     60|          91|       83|      77|   86|       86|       94|                84|       27|         25|        31|            33|         37|              77|           41|     69|          64|        86|     30|       85|         92|       93|           83|        87|            38|          77|     89|             45|      80|    84|     88|87.0|58.0|65.0|88.0|80.0|176580|87.0|64.0|58.0|80.0|65.0|88.0|85.0|88.0|87.0|68.0|                ST |87.0|64.0|58.0|80.0|65.0|88.0|85.0|88.0|87.0|68.0|88.0|\n",
       "|  4|         M. Neuer| 31|https://cdn.sofif...|    Germany|https://cdn.sofif...|     92|       92|   FC Bayern Munich|https://cdn.sofif...|  €61M|€230K|   1493|          58|        29|     52|     35|          48|       70|      15|   14|       30|       13|                11|       91|         90|        95|            91|         89|              25|           30|     78|          59|        16|     10|       47|         12|       85|           55|        25|            11|          61|     44|             10|      83|    70|     11|NULL|NULL|NULL|NULL|NULL|167495|NULL|NULL|NULL|NULL|NULL|NULL|NULL|NULL|NULL|NULL|                GK |NULL|NULL|NULL|NULL|NULL|NULL|NULL|NULL|NULL|NULL|NULL|\n",
       "|  5|   R. Lewandowski| 28|https://cdn.sofif...|     Poland|https://cdn.sofif...|     91|       91|   FC Bayern Munich|https://cdn.sofif...|  €92M|€355K|   2143|          79|        80|     78|     80|          89|       87|      62|   77|       85|       91|                84|       15|          6|        12|             8|         10|              85|           39|     84|          65|        83|     25|       81|         91|       91|           83|        88|            19|          83|     79|             42|      84|    78|     87|84.0|57.0|62.0|87.0|78.0|188545|84.0|58.0|57.0|78.0|62.0|87.0|82.0|88.0|84.0|61.0|                ST |84.0|58.0|57.0|78.0|62.0|87.0|82.0|88.0|84.0|61.0|88.0|\n",
       "|  6|           De Gea| 26|https://cdn.sofif...|      Spain|https://cdn.sofif...|     90|       92|  Manchester United|https://cdn.sofif...|€64.5M|€215K|   1458|          57|        38|     60|     43|          42|       64|      17|   21|       18|       13|                19|       90|         85|        87|            86|         90|              21|           30|     67|          51|        12|     13|       40|         12|       88|           50|        31|            13|          58|     40|             21|      64|    68|     13|NULL|NULL|NULL|NULL|NULL|193080|NULL|NULL|NULL|NULL|NULL|NULL|NULL|NULL|NULL|NULL|                GK |NULL|NULL|NULL|NULL|NULL|NULL|NULL|NULL|NULL|NULL|NULL|\n",
       "|  7|        E. Hazard| 26|https://cdn.sofif...|    Belgium|https://cdn.sofif...|     90|       91|            Chelsea|https://cdn.sofif...|€90.5M|€295K|   2096|          93|        54|     93|     91|          92|       87|      80|   82|       93|       83|                79|       11|         12|         6|             8|          8|              57|           41|     59|          81|        82|     25|       86|         85|       85|           86|        79|            22|          87|     79|             27|      65|    86|     79|88.0|47.0|61.0|87.0|81.0|183277|88.0|59.0|47.0|81.0|61.0|87.0|87.0|82.0|88.0|64.0|                LW |88.0|59.0|47.0|81.0|61.0|87.0|87.0|82.0|88.0|64.0|82.0|\n",
       "|  8|         T. Kroos| 27|https://cdn.sofif...|    Germany|https://cdn.sofif...|     90|       90|     Real Madrid CF|https://cdn.sofif...|  €79M|€340K|   2165|          60|        60|     71|     69|          89|       85|      85|   85|       79|       76|                84|       10|         11|        13|             7|         10|              54|           85|     32|          93|        90|     63|       73|         79|       86|           90|        87|            69|          52|     77|             82|      74|    88|     82|83.0|72.0|82.0|81.0|87.0|182521|83.0|76.0|72.0|87.0|82.0|81.0|81.0|77.0|80.0|78.0|            CDM CM |83.0|76.0|72.0|87.0|82.0|81.0|81.0|77.0|80.0|78.0|77.0|\n",
       "|  9|       G. Higuaín| 29|https://cdn.sofif...|  Argentina|https://cdn.sofif...|     90|       90|           Juventus|https://cdn.sofif...|  €77M|€275K|   1961|          78|        50|     75|     69|          85|       86|      68|   74|       84|       91|                62|        5|         12|         7|             5|         10|              86|           20|     79|          59|        82|     12|       70|         92|       88|           75|        88|            18|          80|     72|             22|      85|    70|     88|81.0|46.0|52.0|84.0|71.0|167664|81.0|51.0|46.0|71.0|52.0|84.0|79.0|87.0|82.0|55.0|                ST |81.0|51.0|46.0|71.0|52.0|84.0|79.0|87.0|82.0|55.0|87.0|\n",
       "+---+-----------------+---+--------------------+-----------+--------------------+-------+---------+-------------------+--------------------+------+-----+-------+------------+----------+-------+-------+------------+---------+--------+-----+---------+---------+------------------+---------+-----------+----------+--------------+-----------+----------------+-------------+-------+------------+----------+-------+---------+-----------+---------+-------------+----------+--------------+------------+-------+---------------+--------+------+-------+----+----+----+----+----+------+----+----+----+----+----+----+----+----+----+----+-------------------+----+----+----+----+----+----+----+----+----+----+----+"
      ]
     },
     "execution_count": 45,
     "metadata": {},
     "output_type": "execute_result"
    }
   ],
   "source": [
    "# Show the first 10 observations\n",
    "# fifa_df.show(10)\n",
    "fifa_df.limit(10)"
   ]
  },
  {
   "cell_type": "code",
   "execution_count": 46,
   "id": "f53f08e7-b5b1-4a8e-9f2e-68d919d7096b",
   "metadata": {},
   "outputs": [
    {
     "name": "stdout",
     "output_type": "stream",
     "text": [
      "There are 17981 rows in the fifa_df DataFrame\n"
     ]
    }
   ],
   "source": [
    "# Print the total number of rows\n",
    "print(\"There are {} rows in the fifa_df DataFrame\".format(fifa_df.count()))"
   ]
  },
  {
   "cell_type": "markdown",
   "id": "435b0720-b989-4381-86af-239021545e52",
   "metadata": {},
   "source": [
    "## Ex. 10 - Part 2: SQL Queries on DataFrame\n",
    "\n",
    "The `fifa_df` DataFrame that we created has additional information about datatypes and names of columns associated with it. This additional information allows PySpark SQL to run SQL queries on DataFrame. SQL queries are concise and easy to run compared to DataFrame operations. But in order to apply SQL queries on DataFrame first, you need to create a temporary view of DataFrame as a table and then apply SQL queries on the created table (Running SQL Queries Programmatically).\n",
    "\n",
    "In the second part, you'll create a temporary table of `fifa_df` DataFrame and run SQL queries to extract the `'Age'` column of players from Germany.\n",
    "\n",
    "**Instructions:**\n",
    "\n",
    "1. Create temporary table `fifa_df_table` from `fifa_df` DataFrame.\n",
    "2. Construct a \"query\" to extract the `\"Age\"` column from `Germany` players in `fifa_df_table`.\n",
    "3. Apply the SQL \"query\" and create a new DataFrame `fifa_df_germany_age`.\n",
    "4. Computes basic statistics of the created DataFrame."
   ]
  },
  {
   "cell_type": "code",
   "execution_count": 47,
   "id": "c91a4412-4c2b-4c7b-a88c-0e35494191e4",
   "metadata": {},
   "outputs": [
    {
     "name": "stdout",
     "output_type": "stream",
     "text": [
      "+-------+-----------------+\n",
      "|summary|              Age|\n",
      "+-------+-----------------+\n",
      "|  count|             1140|\n",
      "|   mean|24.20263157894737|\n",
      "| stddev|4.197096712293752|\n",
      "|    min|               16|\n",
      "|    max|               36|\n",
      "+-------+-----------------+\n",
      "\n"
     ]
    }
   ],
   "source": [
    "# Create a temporary view of fifa_df\n",
    "fifa_df.createOrReplaceTempView('fifa_df_table')\n",
    "\n",
    "# Construct the \"query\"\n",
    "query = '''SELECT Age FROM fifa_df_table WHERE Nationality == \"Germany\"'''\n",
    "\n",
    "# Apply the SQL \"query\"\n",
    "fifa_df_germany_age = spark.sql(query)\n",
    "\n",
    "# Generate basic statistics\n",
    "fifa_df_germany_age.describe().show()"
   ]
  },
  {
   "cell_type": "markdown",
   "id": "decd2f69-0fbc-4c97-8867-0edf5e7f8e95",
   "metadata": {},
   "source": [
    "## Ex. 11 - Part 3: Data visualization\n",
    "\n",
    "Data visualization is important for exploratory data analysis (EDA). PySpark DataFrame is perfect for data visualization compared to RDDs because of its inherent structure and schema.\n",
    "\n",
    "In this third part, you'll create a histogram of the ages of all the players from Germany from the DataFrame that you created in the previous exercise. For this, you'll first convert the PySpark DataFrame into Pandas DataFrame and use matplotlib's `plot()` function to create a density plot of ages of all players from Germany.\n",
    "\n",
    "**Instructions:**\n",
    "\n",
    "1. Convert `fifa_df_germany_age` to `fifa_df_germany_age_pandas` Pandas DataFrame.\n",
    "2. Generate a density plot of the `'Age'` column from the `fifa_df_germany_age_pandas` Pandas DataFrame."
   ]
  },
  {
   "cell_type": "code",
   "execution_count": 48,
   "id": "2c01fbfc-3e09-4858-a30a-cfa94fd959f6",
   "metadata": {},
   "outputs": [
    {
     "data": {
      "image/png": "[encoded data removed]",
      "text/plain": [
       "<Figure size 640x480 with 1 Axes>"
      ]
     },
     "metadata": {},
     "output_type": "display_data"
    }
   ],
   "source": [
    "# Convert fifa_df to fifa_df_germany_age_pandas DataFrame\n",
    "fifa_df_germany_age_pandas = fifa_df_germany_age.toPandas()\n",
    "\n",
    "# Plot the 'Age' density of Germany Players\n",
    "fifa_df_germany_age_pandas.plot(kind='density')\n",
    "plt.show()"
   ]
  },
  {
   "cell_type": "markdown",
   "id": "93cced3a-a8b5-44f7-a1f9-cbf42ad32b18",
   "metadata": {},
   "source": [
    "## Close"
   ]
  },
  {
   "cell_type": "code",
   "execution_count": 49,
   "id": "a8b72f03-cc83-44d4-9736-b6d95572b0d5",
   "metadata": {},
   "outputs": [],
   "source": [
    "spark.stop()"
   ]
  },
  {
   "cell_type": "code",
   "execution_count": null,
   "id": "7e867e2c-27c7-491e-a5ef-e1503072fbe6",
   "metadata": {},
   "outputs": [],
   "source": []
  }
 ],
 "metadata": {
  "kernelspec": {
   "display_name": "Python 3 (ipykernel)",
   "language": "python",
   "name": "python3"
  },
  "language_info": {
   "codemirror_mode": {
    "name": "ipython",
    "version": 3
   },
   "file_extension": ".py",
   "mimetype": "text/x-python",
   "name": "python",
   "nbconvert_exporter": "python",
   "pygments_lexer": "ipython3",
   "version": "3.11.9"
  }
 },
 "nbformat": 4,
 "nbformat_minor": 5
}
