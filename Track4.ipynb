{
 "cells": [
  {
   "cell_type": "markdown",
   "id": "5df1b28b-4cec-475b-b822-901e2815477a",
   "metadata": {},
   "source": [
    "# Machine Learning with PySpark MLlib\r\n",
    "%\r\n",
    "PySpark MLlib is the Apache Spark scalable machine learning library in Python consisting of common learning algorithms and utilities. Throughout this latrackter, you'll learn important Machine Learning algorithms. You will build a movie recommendation engine and a spam filter, and use k-means clustering.\n",
    "\n",
    "## Preparing the environment\n",
    "\n",
    "### Importing libraries"
   ]
  },
  {
   "cell_type": "code",
   "execution_count": 1,
   "id": "60724df2-f18c-4fc9-b308-c464af3eeed0",
   "metadata": {},
   "outputs": [],
   "source": [
    "import pandas as pd\n",
    "import matplotlib.pyplot as plt\n",
    "\n",
    "from pyspark.sql.types import (_parse_datatype_string, StructType, StructField,\n",
    "                               DoubleType, IntegerType, StringType)\n",
    "from pyspark.sql import SparkSession\n",
    "\n",
    "# ml libraries\n",
    "from pyspark.mllib.recommendation import ALS\n",
    "from pyspark.mllib.classification import LogisticRegressionWithLBFGS\n",
    "from pyspark.mllib.clustering import KMeans\n",
    "\n",
    "# Collaborative filtering\n",
    "from pyspark.mllib.recommendation import Rating\n",
    "\n",
    "# Classification\n",
    "from pyspark.mllib.regression import LabeledPoint\n",
    "from pyspark.mllib.linalg import Vectors\n",
    "from pyspark.mllib.feature import HashingTF\n",
    "\n",
    "# Clustering\n",
    "from pyspark.mllib.clustering import KMeans\n",
    "from math import sqrt"
   ]
  },
  {
   "cell_type": "markdown",
   "id": "72c8b31b-e8a6-4703-a46f-0d05981fb5b8",
   "metadata": {},
   "source": [
    "### Connect to Spark"
   ]
  },
  {
   "cell_type": "code",
   "execution_count": 2,
   "id": "47564a9b-5d82-419d-b14c-1d1897661f40",
   "metadata": {},
   "outputs": [],
   "source": [
    "spark = SparkSession.builder.getOrCreate()\n",
    "\n",
    "# eval DataFrame in notebooks\n",
    "spark.conf.set('spark.sql.repl.eagerEval.enabled', True)"
   ]
  },
  {
   "cell_type": "code",
   "execution_count": 3,
   "id": "b588f73a-b120-47c9-b45c-e903bd170cf0",
   "metadata": {},
   "outputs": [],
   "source": [
    "sc = spark.sparkContext"
   ]
  },
  {
   "cell_type": "markdown",
   "id": "fe949665-debe-4815-a51f-e1ba940ec0a2",
   "metadata": {},
   "source": [
    "### Reading the data"
   ]
  },
  {
   "cell_type": "code",
   "execution_count": 4,
   "id": "e0beb63e-bf9c-4348-87ff-60c71a70bd9d",
   "metadata": {},
   "outputs": [
    {
     "name": "stdout",
     "output_type": "stream",
     "text": [
      "root\n",
      " |-- _c0: integer (nullable = true)\n",
      " |-- Name: string (nullable = true)\n",
      " |-- Age: integer (nullable = true)\n",
      " |-- Photo: string (nullable = true)\n",
      " |-- Nationality: string (nullable = true)\n",
      " |-- Flag: string (nullable = true)\n",
      " |-- Overall: integer (nullable = true)\n",
      " |-- Potential: integer (nullable = true)\n",
      " |-- Club: string (nullable = true)\n",
      " |-- Club Logo: string (nullable = true)\n",
      " |-- Value: string (nullable = true)\n",
      " |-- Wage: string (nullable = true)\n",
      " |-- Special: integer (nullable = true)\n",
      " |-- Acceleration: integer (nullable = true)\n",
      " |-- Aggression: integer (nullable = true)\n",
      " |-- Agility: integer (nullable = true)\n",
      " |-- Balance: integer (nullable = true)\n",
      " |-- Ball control: integer (nullable = true)\n",
      " |-- Composure: integer (nullable = true)\n",
      " |-- Crossing: integer (nullable = true)\n",
      " |-- Curve: integer (nullable = true)\n",
      " |-- Dribbling: integer (nullable = true)\n",
      " |-- Finishing: integer (nullable = true)\n",
      " |-- Free kick accuracy: integer (nullable = true)\n",
      " |-- GK diving: integer (nullable = true)\n",
      " |-- GK handling: integer (nullable = true)\n",
      " |-- GK kicking: integer (nullable = true)\n",
      " |-- GK positioning: integer (nullable = true)\n",
      " |-- GK reflexes: integer (nullable = true)\n",
      " |-- Heading accuracy: integer (nullable = true)\n",
      " |-- Interceptions: integer (nullable = true)\n",
      " |-- Jumping: integer (nullable = true)\n",
      " |-- Long passing: integer (nullable = true)\n",
      " |-- Long shots: integer (nullable = true)\n",
      " |-- Marking: integer (nullable = true)\n",
      " |-- Penalties: integer (nullable = true)\n",
      " |-- Positioning: integer (nullable = true)\n",
      " |-- Reactions: integer (nullable = true)\n",
      " |-- Short passing: integer (nullable = true)\n",
      " |-- Shot power: integer (nullable = true)\n",
      " |-- Sliding tackle: integer (nullable = true)\n",
      " |-- Sprint speed: integer (nullable = true)\n",
      " |-- Stamina: integer (nullable = true)\n",
      " |-- Standing tackle: integer (nullable = true)\n",
      " |-- Strength: integer (nullable = true)\n",
      " |-- Vision: integer (nullable = true)\n",
      " |-- Volleys: integer (nullable = true)\n",
      " |-- CAM: double (nullable = true)\n",
      " |-- CB: double (nullable = true)\n",
      " |-- CDM: double (nullable = true)\n",
      " |-- CF: double (nullable = true)\n",
      " |-- CM: double (nullable = true)\n",
      " |-- ID: integer (nullable = true)\n",
      " |-- LAM: double (nullable = true)\n",
      " |-- LB: double (nullable = true)\n",
      " |-- LCB: double (nullable = true)\n",
      " |-- LCM: double (nullable = true)\n",
      " |-- LDM: double (nullable = true)\n",
      " |-- LF: double (nullable = true)\n",
      " |-- LM: double (nullable = true)\n",
      " |-- LS: double (nullable = true)\n",
      " |-- LW: double (nullable = true)\n",
      " |-- LWB: double (nullable = true)\n",
      " |-- Preferred Positions: string (nullable = true)\n",
      " |-- RAM: double (nullable = true)\n",
      " |-- RB: double (nullable = true)\n",
      " |-- RCB: double (nullable = true)\n",
      " |-- RCM: double (nullable = true)\n",
      " |-- RDM: double (nullable = true)\n",
      " |-- RF: double (nullable = true)\n",
      " |-- RM: double (nullable = true)\n",
      " |-- RS: double (nullable = true)\n",
      " |-- RW: double (nullable = true)\n",
      " |-- RWB: double (nullable = true)\n",
      " |-- ST: double (nullable = true)\n",
      "\n"
     ]
    },
    {
     "data": {
      "text/html": [
       "<table border='1'>\n",
       "<tr><th>_c0</th><th>Name</th><th>Age</th><th>Photo</th><th>Nationality</th><th>Flag</th><th>Overall</th><th>Potential</th><th>Club</th><th>Club Logo</th><th>Value</th><th>Wage</th><th>Special</th><th>Acceleration</th><th>Aggression</th><th>Agility</th><th>Balance</th><th>Ball control</th><th>Composure</th><th>Crossing</th><th>Curve</th><th>Dribbling</th><th>Finishing</th><th>Free kick accuracy</th><th>GK diving</th><th>GK handling</th><th>GK kicking</th><th>GK positioning</th><th>GK reflexes</th><th>Heading accuracy</th><th>Interceptions</th><th>Jumping</th><th>Long passing</th><th>Long shots</th><th>Marking</th><th>Penalties</th><th>Positioning</th><th>Reactions</th><th>Short passing</th><th>Shot power</th><th>Sliding tackle</th><th>Sprint speed</th><th>Stamina</th><th>Standing tackle</th><th>Strength</th><th>Vision</th><th>Volleys</th><th>CAM</th><th>CB</th><th>CDM</th><th>CF</th><th>CM</th><th>ID</th><th>LAM</th><th>LB</th><th>LCB</th><th>LCM</th><th>LDM</th><th>LF</th><th>LM</th><th>LS</th><th>LW</th><th>LWB</th><th>Preferred Positions</th><th>RAM</th><th>RB</th><th>RCB</th><th>RCM</th><th>RDM</th><th>RF</th><th>RM</th><th>RS</th><th>RW</th><th>RWB</th><th>ST</th></tr>\n",
       "<tr><td>0</td><td>Cristiano Ronaldo</td><td>32</td><td>https://cdn.sofif...</td><td>Portugal</td><td>https://cdn.sofif...</td><td>94</td><td>94</td><td>Real Madrid CF</td><td>https://cdn.sofif...</td><td>&euro;95.5M</td><td>&euro;565K</td><td>2228</td><td>89</td><td>63</td><td>89</td><td>63</td><td>93</td><td>95</td><td>85</td><td>81</td><td>91</td><td>94</td><td>76</td><td>7</td><td>11</td><td>15</td><td>14</td><td>11</td><td>88</td><td>29</td><td>95</td><td>77</td><td>92</td><td>22</td><td>85</td><td>95</td><td>96</td><td>83</td><td>94</td><td>23</td><td>91</td><td>92</td><td>31</td><td>80</td><td>85</td><td>88</td><td>89.0</td><td>53.0</td><td>62.0</td><td>91.0</td><td>82.0</td><td>20801</td><td>89.0</td><td>61.0</td><td>53.0</td><td>82.0</td><td>62.0</td><td>91.0</td><td>89.0</td><td>92.0</td><td>91.0</td><td>66.0</td><td>ST LW </td><td>89.0</td><td>61.0</td><td>53.0</td><td>82.0</td><td>62.0</td><td>91.0</td><td>89.0</td><td>92.0</td><td>91.0</td><td>66.0</td><td>92.0</td></tr>\n",
       "<tr><td>1</td><td>L. Messi</td><td>30</td><td>https://cdn.sofif...</td><td>Argentina</td><td>https://cdn.sofif...</td><td>93</td><td>93</td><td>FC Barcelona</td><td>https://cdn.sofif...</td><td>&euro;105M</td><td>&euro;565K</td><td>2154</td><td>92</td><td>48</td><td>90</td><td>95</td><td>95</td><td>96</td><td>77</td><td>89</td><td>97</td><td>95</td><td>90</td><td>6</td><td>11</td><td>15</td><td>14</td><td>8</td><td>71</td><td>22</td><td>68</td><td>87</td><td>88</td><td>13</td><td>74</td><td>93</td><td>95</td><td>88</td><td>85</td><td>26</td><td>87</td><td>73</td><td>28</td><td>59</td><td>90</td><td>85</td><td>92.0</td><td>45.0</td><td>59.0</td><td>92.0</td><td>84.0</td><td>158023</td><td>92.0</td><td>57.0</td><td>45.0</td><td>84.0</td><td>59.0</td><td>92.0</td><td>90.0</td><td>88.0</td><td>91.0</td><td>62.0</td><td>RW </td><td>92.0</td><td>57.0</td><td>45.0</td><td>84.0</td><td>59.0</td><td>92.0</td><td>90.0</td><td>88.0</td><td>91.0</td><td>62.0</td><td>88.0</td></tr>\n",
       "</table>\n"
      ],
      "text/plain": [
       "+---+-----------------+---+--------------------+-----------+--------------------+-------+---------+--------------+--------------------+------+-----+-------+------------+----------+-------+-------+------------+---------+--------+-----+---------+---------+------------------+---------+-----------+----------+--------------+-----------+----------------+-------------+-------+------------+----------+-------+---------+-----------+---------+-------------+----------+--------------+------------+-------+---------------+--------+------+-------+----+----+----+----+----+------+----+----+----+----+----+----+----+----+----+----+-------------------+----+----+----+----+----+----+----+----+----+----+----+\n",
       "|_c0|             Name|Age|               Photo|Nationality|                Flag|Overall|Potential|          Club|           Club Logo| Value| Wage|Special|Acceleration|Aggression|Agility|Balance|Ball control|Composure|Crossing|Curve|Dribbling|Finishing|Free kick accuracy|GK diving|GK handling|GK kicking|GK positioning|GK reflexes|Heading accuracy|Interceptions|Jumping|Long passing|Long shots|Marking|Penalties|Positioning|Reactions|Short passing|Shot power|Sliding tackle|Sprint speed|Stamina|Standing tackle|Strength|Vision|Volleys| CAM|  CB| CDM|  CF|  CM|    ID| LAM|  LB| LCB| LCM| LDM|  LF|  LM|  LS|  LW| LWB|Preferred Positions| RAM|  RB| RCB| RCM| RDM|  RF|  RM|  RS|  RW| RWB|  ST|\n",
       "+---+-----------------+---+--------------------+-----------+--------------------+-------+---------+--------------+--------------------+------+-----+-------+------------+----------+-------+-------+------------+---------+--------+-----+---------+---------+------------------+---------+-----------+----------+--------------+-----------+----------------+-------------+-------+------------+----------+-------+---------+-----------+---------+-------------+----------+--------------+------------+-------+---------------+--------+------+-------+----+----+----+----+----+------+----+----+----+----+----+----+----+----+----+----+-------------------+----+----+----+----+----+----+----+----+----+----+----+\n",
       "|  0|Cristiano Ronaldo| 32|https://cdn.sofif...|   Portugal|https://cdn.sofif...|     94|       94|Real Madrid CF|https://cdn.sofif...|€95.5M|€565K|   2228|          89|        63|     89|     63|          93|       95|      85|   81|       91|       94|                76|        7|         11|        15|            14|         11|              88|           29|     95|          77|        92|     22|       85|         95|       96|           83|        94|            23|          91|     92|             31|      80|    85|     88|89.0|53.0|62.0|91.0|82.0| 20801|89.0|61.0|53.0|82.0|62.0|91.0|89.0|92.0|91.0|66.0|             ST LW |89.0|61.0|53.0|82.0|62.0|91.0|89.0|92.0|91.0|66.0|92.0|\n",
       "|  1|         L. Messi| 30|https://cdn.sofif...|  Argentina|https://cdn.sofif...|     93|       93|  FC Barcelona|https://cdn.sofif...| €105M|€565K|   2154|          92|        48|     90|     95|          95|       96|      77|   89|       97|       95|                90|        6|         11|        15|            14|          8|              71|           22|     68|          87|        88|     13|       74|         93|       95|           88|        85|            26|          87|     73|             28|      59|    90|     85|92.0|45.0|59.0|92.0|84.0|158023|92.0|57.0|45.0|84.0|59.0|92.0|90.0|88.0|91.0|62.0|                RW |92.0|57.0|45.0|84.0|59.0|92.0|90.0|88.0|91.0|62.0|88.0|\n",
       "+---+-----------------+---+--------------------+-----------+--------------------+-------+---------+--------------+--------------------+------+-----+-------+------------+----------+-------+-------+------------+---------+--------+-----+---------+---------+------------------+---------+-----------+----------+--------------+-----------+----------------+-------------+-------+------------+----------+-------+---------+-----------+---------+-------------+----------+--------------+------------+-------+---------------+--------+------+-------+----+----+----+----+----+------+----+----+----+----+----+----+----+----+----+----+-------------------+----+----+----+----+----+----+----+----+----+----+----+"
      ]
     },
     "execution_count": 4,
     "metadata": {},
     "output_type": "execute_result"
    }
   ],
   "source": [
    "fifa = spark.read.csv('data-sources/Fifa2018_dataset.csv', header=True, inferSchema=True)\n",
    "# cast to integer\n",
    "for col_name in ['Acceleration', 'Aggression', 'Agility', 'Balance', 'Ball control', 'Composure', \n",
    "                 'Crossing', 'Curve', 'Dribbling', 'Finishing', 'Free kick accuracy', 'GK diving', \n",
    "                 'GK handling', 'GK kicking', 'GK positioning', 'GK reflexes', 'Heading accuracy', \n",
    "                 'Interceptions', 'Jumping', 'Long passing', 'Long shots', 'Marking', 'Penalties', \n",
    "                 'Positioning', 'Reactions', 'Short passing', 'Shot power', 'Sliding tackle', \n",
    "                 'Sprint speed', 'Stamina', 'Standing tackle', 'Strength', 'Vision', 'Volleys']:\n",
    "    fifa = fifa.withColumn(col_name, fifa[col_name].cast('integer'))\n",
    "fifa.createOrReplaceTempView(\"fifa\")\n",
    "fifa.printSchema()\n",
    "fifa.limit(2)"
   ]
  },
  {
   "cell_type": "code",
   "execution_count": 5,
   "id": "017c0d06-8962-4036-886c-78057f1eb7d9",
   "metadata": {},
   "outputs": [
    {
     "name": "stdout",
     "output_type": "stream",
     "text": [
      "root\n",
      " |-- userId: integer (nullable = true)\n",
      " |-- movieId: integer (nullable = true)\n",
      " |-- rating: double (nullable = true)\n",
      " |-- timestamp: integer (nullable = true)\n",
      "\n"
     ]
    },
    {
     "data": {
      "text/html": [
       "<table border='1'>\n",
       "<tr><th>userId</th><th>movieId</th><th>rating</th><th>timestamp</th></tr>\n",
       "<tr><td>1</td><td>31</td><td>2.5</td><td>1260759144</td></tr>\n",
       "<tr><td>1</td><td>1029</td><td>3.0</td><td>1260759179</td></tr>\n",
       "</table>\n"
      ],
      "text/plain": [
       "+------+-------+------+----------+\n",
       "|userId|movieId|rating| timestamp|\n",
       "+------+-------+------+----------+\n",
       "|     1|     31|   2.5|1260759144|\n",
       "|     1|   1029|   3.0|1260759179|\n",
       "+------+-------+------+----------+"
      ]
     },
     "execution_count": 5,
     "metadata": {},
     "output_type": "execute_result"
    }
   ],
   "source": [
    "movies = spark.read.csv('data-sources/movie-ratings.csv', header=False, inferSchema=True,\n",
    "                        schema='userId int, movieId int, rating double, timestamp int')\n",
    "movies.createOrReplaceTempView(\"movies\")\n",
    "movies.printSchema()\n",
    "movies.limit(2)"
   ]
  },
  {
   "cell_type": "code",
   "execution_count": 6,
   "id": "eefa5ee7-b0f5-4148-b561-c1bb319586a6",
   "metadata": {},
   "outputs": [
    {
     "name": "stdout",
     "output_type": "stream",
     "text": [
      "root\n",
      " |-- _c0: integer (nullable = true)\n",
      " |-- person_id: integer (nullable = true)\n",
      " |-- name: string (nullable = true)\n",
      " |-- sex: string (nullable = true)\n",
      " |-- date of birth: timestamp (nullable = true)\n",
      "\n"
     ]
    },
    {
     "data": {
      "text/html": [
       "<table border='1'>\n",
       "<tr><th>_c0</th><th>person_id</th><th>name</th><th>sex</th><th>date of birth</th></tr>\n",
       "<tr><td>0</td><td>100</td><td>Penelope Lewis</td><td>female</td><td>1990-08-31 00:00:00</td></tr>\n",
       "<tr><td>1</td><td>101</td><td>David Anthony</td><td>male</td><td>1971-10-14 00:00:00</td></tr>\n",
       "</table>\n"
      ],
      "text/plain": [
       "+---+---------+--------------+------+-------------------+\n",
       "|_c0|person_id|          name|   sex|      date of birth|\n",
       "+---+---------+--------------+------+-------------------+\n",
       "|  0|      100|Penelope Lewis|female|1990-08-31 00:00:00|\n",
       "|  1|      101| David Anthony|  male|1971-10-14 00:00:00|\n",
       "+---+---------+--------------+------+-------------------+"
      ]
     },
     "execution_count": 6,
     "metadata": {},
     "output_type": "execute_result"
    }
   ],
   "source": [
    "people = spark.read.csv('data-sources/people.csv', header=True, inferSchema=True)\n",
    "people.createOrReplaceTempView(\"people\")\n",
    "people.printSchema()\n",
    "people.limit(2)"
   ]
  },
  {
   "cell_type": "code",
   "execution_count": 7,
   "id": "817f325a-e095-4904-ac9c-0b872142d6ed",
   "metadata": {},
   "outputs": [
    {
     "name": "stdout",
     "output_type": "stream",
     "text": [
      "root\n",
      " |-- Wine: integer (nullable = true)\n",
      " |-- Alcohol: double (nullable = true)\n",
      " |-- Malic.acid: double (nullable = true)\n",
      " |-- Ash: double (nullable = true)\n",
      " |-- Acl: double (nullable = true)\n",
      " |-- Mg: integer (nullable = true)\n",
      " |-- Phenols: double (nullable = true)\n",
      " |-- Flavanoids: double (nullable = true)\n",
      " |-- Nonflavanoid.phenols: double (nullable = true)\n",
      " |-- Proanth: double (nullable = true)\n",
      " |-- Color.int: double (nullable = true)\n",
      " |-- Hue: double (nullable = true)\n",
      " |-- OD: double (nullable = true)\n",
      " |-- Proline: integer (nullable = true)\n",
      "\n"
     ]
    },
    {
     "data": {
      "text/html": [
       "<table border='1'>\n",
       "<tr><th>Wine</th><th>Alcohol</th><th>Malic.acid</th><th>Ash</th><th>Acl</th><th>Mg</th><th>Phenols</th><th>Flavanoids</th><th>Nonflavanoid.phenols</th><th>Proanth</th><th>Color.int</th><th>Hue</th><th>OD</th><th>Proline</th></tr>\n",
       "<tr><td>1</td><td>14.23</td><td>1.71</td><td>2.43</td><td>15.6</td><td>127</td><td>2.8</td><td>3.06</td><td>0.28</td><td>2.29</td><td>5.64</td><td>1.04</td><td>3.92</td><td>1065</td></tr>\n",
       "<tr><td>1</td><td>13.2</td><td>1.78</td><td>2.14</td><td>11.2</td><td>100</td><td>2.65</td><td>2.76</td><td>0.26</td><td>1.28</td><td>4.38</td><td>1.05</td><td>3.4</td><td>1050</td></tr>\n",
       "</table>\n"
      ],
      "text/plain": [
       "+----+-------+----------+----+----+---+-------+----------+--------------------+-------+---------+----+----+-------+\n",
       "|Wine|Alcohol|Malic.acid| Ash| Acl| Mg|Phenols|Flavanoids|Nonflavanoid.phenols|Proanth|Color.int| Hue|  OD|Proline|\n",
       "+----+-------+----------+----+----+---+-------+----------+--------------------+-------+---------+----+----+-------+\n",
       "|   1|  14.23|      1.71|2.43|15.6|127|    2.8|      3.06|                0.28|   2.29|     5.64|1.04|3.92|   1065|\n",
       "|   1|   13.2|      1.78|2.14|11.2|100|   2.65|      2.76|                0.26|   1.28|     4.38|1.05| 3.4|   1050|\n",
       "+----+-------+----------+----+----+---+-------+----------+--------------------+-------+---------+----+----+-------+"
      ]
     },
     "execution_count": 7,
     "metadata": {},
     "output_type": "execute_result"
    }
   ],
   "source": [
    "wine = spark.read.csv('data-sources/wine-data.csv', header=True, inferSchema=True)\n",
    "wine.createOrReplaceTempView(\"wine\")\n",
    "wine.printSchema()\n",
    "wine.limit(2)"
   ]
  },
  {
   "cell_type": "code",
   "execution_count": 8,
   "id": "cd37bec1-aa3c-435a-954a-fcd02c04c78a",
   "metadata": {},
   "outputs": [
    {
     "data": {
      "text/plain": [
       "[Table(name='fifa', catalog=None, namespace=[], description=None, tableType='TEMPORARY', isTemporary=True),\n",
       " Table(name='movies', catalog=None, namespace=[], description=None, tableType='TEMPORARY', isTemporary=True),\n",
       " Table(name='people', catalog=None, namespace=[], description=None, tableType='TEMPORARY', isTemporary=True),\n",
       " Table(name='wine', catalog=None, namespace=[], description=None, tableType='TEMPORARY', isTemporary=True)]"
      ]
     },
     "execution_count": 8,
     "metadata": {},
     "output_type": "execute_result"
    }
   ],
   "source": [
    "spark.catalog.listTables()"
   ]
  },
  {
   "cell_type": "markdown",
   "id": "ae070d09-c119-4d51-a6f7-5223e72136ed",
   "metadata": {},
   "source": [
    "## Ex. 1 - PySpark MLlib algorithms\n",
    "\n",
    "Before using any Machine learning algorithms in PySpark shell, you'll have to import the submodules of pyspark.mllib library and then choose the appropriate class that is needed for a specific machine learning task.\n",
    "\n",
    "In this simple exercise, you'll learn how to import the different submodules of pyspark.mllib along with the classes that are needed for performing Collaborative filtering, Classification, and Clustering algorithms.\n",
    "\n",
    "**Instructions:**\n",
    "\n",
    "1. Import `pyspark.mllib` recommendation submodule and Alternating Least Squares class.\n",
    "2. Import `pyspark.mllib` classification submodule and Logistic Regression with LBFGS class.\n",
    "3. Import `pyspark.mllib` clustering submodule and kmeans class."
   ]
  },
  {
   "cell_type": "code",
   "execution_count": 9,
   "id": "8163655a-bbb7-46ef-bc4e-176a149492ab",
   "metadata": {},
   "outputs": [],
   "source": [
    "# Import the library for ALS\n",
    "from pyspark.mllib.recommendation import ALS\n",
    "\n",
    "# Import the library for Logistic Regression\n",
    "from pyspark.mllib.classification import LogisticRegressionWithLBFGS\n",
    "\n",
    "# Import the library for Kmeans\n",
    "from pyspark.mllib.clustering import KMeans"
   ]
  },
  {
   "cell_type": "markdown",
   "id": "a66b38ab-723d-4079-9c5e-55be1d4306b8",
   "metadata": {},
   "source": [
    "## Collaborative filtering\n",
    "\n",
    "### Rating class in pyspark.mllib.recommendation submodule"
   ]
  },
  {
   "cell_type": "code",
   "execution_count": 10,
   "id": "502390cc-5c99-433c-b326-233b47acf10c",
   "metadata": {},
   "outputs": [
    {
     "name": "stdout",
     "output_type": "stream",
     "text": [
      "(1, 2, 5.0)\n"
     ]
    },
    {
     "data": {
      "text/plain": [
       "Rating(user=1, product=2, rating=5.0)"
      ]
     },
     "execution_count": 10,
     "metadata": {},
     "output_type": "execute_result"
    }
   ],
   "source": [
    "r = Rating(user = 1, product = 2, rating = 5.0)\n",
    "print((r[0], r[1], r[2]))\n",
    "r"
   ]
  },
  {
   "cell_type": "markdown",
   "id": "5c79b9b9-c920-4ccc-82e6-a29a68197943",
   "metadata": {},
   "source": [
    "### Splitting the data using randomSplit()"
   ]
  },
  {
   "cell_type": "code",
   "execution_count": 11,
   "id": "8bd8a2a9-8bd8-4d1a-b49c-c5481c0b2bbd",
   "metadata": {},
   "outputs": [
    {
     "name": "stdout",
     "output_type": "stream",
     "text": [
      "[1, 4, 5, 7, 8, 9, 10]\n",
      "[2, 3, 6]\n"
     ]
    }
   ],
   "source": [
    "data = sc.parallelize([1, 2, 3, 4, 5, 6, 7, 8, 9, 10])\n",
    "\n",
    "training, test = data.randomSplit([0.6, 0.4], seed=42)\n",
    "\n",
    "print(training.collect())\n",
    "print(test.collect())"
   ]
  },
  {
   "cell_type": "markdown",
   "id": "2140ae24-66b3-4773-a898-56802d9cc2c8",
   "metadata": {},
   "source": [
    "### Alternating Least Squares (ALS)\n",
    "\n",
    "- Alternating Least Squares (ALS) algorithm in `spark.mllib` provides collaborative filtering\n",
    "- ALS.train(ratings, rank, iterations)"
   ]
  },
  {
   "cell_type": "code",
   "execution_count": 12,
   "id": "e01789d5-be71-4df0-b8c7-8c91000479bb",
   "metadata": {},
   "outputs": [
    {
     "data": {
      "text/plain": [
       "[Rating(user=1, product=1, rating=1.0),\n",
       " Rating(user=1, product=2, rating=2.0),\n",
       " Rating(user=2, product=1, rating=2.0)]"
      ]
     },
     "execution_count": 12,
     "metadata": {},
     "output_type": "execute_result"
    }
   ],
   "source": [
    "r1 = Rating(1, 1, 1.0)\n",
    "r2 = Rating(1, 2, 2.0)\n",
    "r3 = Rating(2, 1, 2.0)\n",
    "\n",
    "ratings = sc.parallelize([r1, r2, r3])\n",
    "ratings.collect()"
   ]
  },
  {
   "cell_type": "code",
   "execution_count": 13,
   "id": "5492c36d-d2f5-48f3-8805-896dc3aedadc",
   "metadata": {},
   "outputs": [
    {
     "data": {
      "text/plain": [
       "<pyspark.mllib.recommendation.MatrixFactorizationModel at 0x22bdeefd810>"
      ]
     },
     "execution_count": 13,
     "metadata": {},
     "output_type": "execute_result"
    }
   ],
   "source": [
    "model = ALS.train(ratings, rank=10, iterations=10)\n",
    "model"
   ]
  },
  {
   "cell_type": "markdown",
   "id": "f757bca1-c4bb-43e1-8f49-84426f910989",
   "metadata": {},
   "source": [
    "### predictAll()\n",
    "\n",
    "- The `predictAll()` method returns a list of predicted ratings for input user and product pair\n",
    "- The method takes in a RDD without ratings to generate the ratings"
   ]
  },
  {
   "cell_type": "code",
   "execution_count": 14,
   "id": "0ce3384b-0dde-4ee0-9dac-ee67fcc0a7fc",
   "metadata": {},
   "outputs": [
    {
     "data": {
      "text/plain": [
       "[Rating(user=1, product=1, rating=1.000018109412695),\n",
       " Rating(user=1, product=2, rating=1.9890386220695941)]"
      ]
     },
     "execution_count": 14,
     "metadata": {},
     "output_type": "execute_result"
    }
   ],
   "source": [
    "unrated_RDD = sc.parallelize([(1, 2), (1, 1)])\n",
    "\n",
    "predictions = model.predictAll(unrated_RDD)\n",
    "predictions.collect()"
   ]
  },
  {
   "cell_type": "markdown",
   "id": "8ca8fa66-704f-4a08-92f9-865e066d89b8",
   "metadata": {},
   "source": [
    "### Model evaluation\n",
    "\n",
    "The MSE is the average value of the square of (actual rating - predicted rating)"
   ]
  },
  {
   "cell_type": "code",
   "execution_count": 15,
   "id": "98020364-6bd9-4965-9135-b6a7cf49293d",
   "metadata": {},
   "outputs": [
    {
     "data": {
      "text/plain": [
       "[Rating(user=1, product=1, rating=1.0),\n",
       " Rating(user=1, product=2, rating=2.0),\n",
       " Rating(user=2, product=1, rating=2.0)]"
      ]
     },
     "execution_count": 15,
     "metadata": {},
     "output_type": "execute_result"
    }
   ],
   "source": [
    "ratings.collect()"
   ]
  },
  {
   "cell_type": "code",
   "execution_count": 16,
   "id": "64761975-cfca-46d4-8095-d9072ba4b784",
   "metadata": {},
   "outputs": [
    {
     "data": {
      "text/plain": [
       "[((1, 1), 1.0), ((1, 2), 2.0), ((2, 1), 2.0)]"
      ]
     },
     "execution_count": 16,
     "metadata": {},
     "output_type": "execute_result"
    }
   ],
   "source": [
    "rates = ratings.map(lambda x: ((x[0], x[1]), x[2]))\n",
    "rates.collect()"
   ]
  },
  {
   "cell_type": "code",
   "execution_count": 17,
   "id": "4693f99f-7334-4b74-bc94-1343269e9a2c",
   "metadata": {},
   "outputs": [
    {
     "data": {
      "text/plain": [
       "[((1, 1), 1.000018109412695), ((1, 2), 1.9890386220695941)]"
      ]
     },
     "execution_count": 17,
     "metadata": {},
     "output_type": "execute_result"
    }
   ],
   "source": [
    "preds = predictions.map(lambda x: ((x[0], x[1]), x[2]))\n",
    "preds.collect()"
   ]
  },
  {
   "cell_type": "code",
   "execution_count": 18,
   "id": "8f4b8b19-310e-4bba-9a11-23659a56662c",
   "metadata": {},
   "outputs": [
    {
     "data": {
      "text/plain": [
       "[((1, 2), (2.0, 1.9890386220695941)), ((1, 1), (1.0, 1.000018109412695))]"
      ]
     },
     "execution_count": 18,
     "metadata": {},
     "output_type": "execute_result"
    }
   ],
   "source": [
    "rates_preds = rates.join(preds)\n",
    "rates_preds.collect()"
   ]
  },
  {
   "cell_type": "code",
   "execution_count": 19,
   "id": "b473452d-edfe-4f8f-97d8-eba771d724b8",
   "metadata": {},
   "outputs": [
    {
     "data": {
      "text/plain": [
       "6.0076067042008384e-05"
      ]
     },
     "execution_count": 19,
     "metadata": {},
     "output_type": "execute_result"
    }
   ],
   "source": [
    "MSE = rates_preds.map(lambda r: (r[1][0] - r[1][1])**2).mean()\n",
    "MSE"
   ]
  },
  {
   "cell_type": "markdown",
   "id": "d0d387e2-5cca-4f20-ae9d-b106ca6c8d82",
   "metadata": {},
   "source": [
    "## Ex. 2 - Loading Movie Lens dataset into RDDs\n",
    "\n",
    "Collaborative filtering is a technique for recommender systems wherein users' ratings and interactions with various products are used to recommend new ones. With the advent of Machine Learning and parallelized processing of data, recommender systems have become widely popular in recent years, and are utilized in a variety of areas including movies, music, news, books, research articles, search queries, social tags. In this 3-part exercise, your goal is to develop a simple movie recommendation system using PySpark MLlib using a subset of [MovieLens 100k dataset](data-sources/movie-ratings.csv).\n",
    "\n",
    "In the first part, you'll first load the MovieLens data (`movie-ratings.csv`) into RDD and from each line in the RDD which is formatted as `userId,movieId,rating,timestamp`, you'll need to map the `MovieLens` data to a `Ratings` object (`userID, productID, rating`) after removing `timestamp` column and finally you'll split the RDD into `training` and `test` RDDs.\n",
    "\n",
    "**Instructions:**\n",
    "\n",
    "1. Load the `movie-ratings.csv` dataset into an RDD.\n",
    "2. Split the RDD using `,` as a delimiter.\n",
    "3. For each line of the RDD, using `Rating()` class create a tuple of `userID, productID, rating`.\n",
    "4. Randomly split the data into training data and test data (0.8 and 0.2)."
   ]
  },
  {
   "cell_type": "markdown",
   "id": "6dad5a45-9b85-4502-9494-4cd9f91f7d8c",
   "metadata": {},
   "source": [
    "### First method, reading data as RDD"
   ]
  },
  {
   "cell_type": "code",
   "execution_count": 20,
   "id": "93989bd3-9425-41aa-9e3e-816fbecd575e",
   "metadata": {},
   "outputs": [
    {
     "data": {
      "text/plain": [
       "['1,31,2.5,1260759144',\n",
       " '1,1029,3.0,1260759179',\n",
       " '1,1061,3.0,1260759182',\n",
       " '1,1129,2.0,1260759185',\n",
       " '1,1172,4.0,1260759205']"
      ]
     },
     "execution_count": 20,
     "metadata": {},
     "output_type": "execute_result"
    }
   ],
   "source": [
    "# Load the data into RDD\n",
    "file_path = 'data-sources/movie-ratings.csv'\n",
    "data = sc.textFile(file_path)\n",
    "data.take(5)"
   ]
  },
  {
   "cell_type": "code",
   "execution_count": 21,
   "id": "f6837e25-9e63-442e-bc6a-616bafdcad1f",
   "metadata": {},
   "outputs": [
    {
     "data": {
      "text/plain": [
       "[['1', '31', '2.5', '1260759144'],\n",
       " ['1', '1029', '3.0', '1260759179'],\n",
       " ['1', '1061', '3.0', '1260759182'],\n",
       " ['1', '1129', '2.0', '1260759185'],\n",
       " ['1', '1172', '4.0', '1260759205']]"
      ]
     },
     "execution_count": 21,
     "metadata": {},
     "output_type": "execute_result"
    }
   ],
   "source": [
    "# Split the RDD \n",
    "ratings = data.map(lambda l: l.split(','))\n",
    "ratings.take(5)"
   ]
  },
  {
   "cell_type": "code",
   "execution_count": 22,
   "id": "4c3c4b76-1f21-490a-9c25-b247e2beebe8",
   "metadata": {},
   "outputs": [
    {
     "data": {
      "text/plain": [
       "[Rating(user=1, product=31, rating=2.5),\n",
       " Rating(user=1, product=1029, rating=3.0),\n",
       " Rating(user=1, product=1061, rating=3.0),\n",
       " Rating(user=1, product=1129, rating=2.0),\n",
       " Rating(user=1, product=1172, rating=4.0)]"
      ]
     },
     "execution_count": 22,
     "metadata": {},
     "output_type": "execute_result"
    }
   ],
   "source": [
    "# Transform the ratings RDD \n",
    "ratings_final = ratings.map(lambda line: Rating(int(line[0]), int(line[1]), float(line[2])))\n",
    "ratings_final.take(5)"
   ]
  },
  {
   "cell_type": "code",
   "execution_count": 23,
   "id": "40386622-10fa-4725-8f37-2490d9622805",
   "metadata": {},
   "outputs": [
    {
     "name": "stdout",
     "output_type": "stream",
     "text": [
      "\n",
      "Data: 100004 rows\n",
      "Training set: 79764 rows\n",
      "Test set: 20240 rows\n",
      "\n"
     ]
    }
   ],
   "source": [
    "# Split the data into training and test\n",
    "training_data, test_data = ratings_final.randomSplit([0.8, 0.2])\n",
    "print(f'''\n",
    "Data: {ratings_final.count()} rows\n",
    "Training set: {training_data.count()} rows\n",
    "Test set: {test_data.count()} rows\n",
    "''')"
   ]
  },
  {
   "cell_type": "markdown",
   "id": "c64e1046-3a2b-426f-84ba-77b315610e2d",
   "metadata": {},
   "source": [
    "### Second method, reading data as Spark Dataframe \n",
    "\n",
    "Data has been already read as Spark Dataframe and saved in `movies`."
   ]
  },
  {
   "cell_type": "code",
   "execution_count": 24,
   "id": "0a55ebf5-ccf7-4684-ba56-2d1504a3551a",
   "metadata": {},
   "outputs": [
    {
     "data": {
      "text/plain": [
       "[Row(userId=1, movieId=31, rating=2.5, timestamp=1260759144),\n",
       " Row(userId=1, movieId=1029, rating=3.0, timestamp=1260759179),\n",
       " Row(userId=1, movieId=1061, rating=3.0, timestamp=1260759182),\n",
       " Row(userId=1, movieId=1129, rating=2.0, timestamp=1260759185),\n",
       " Row(userId=1, movieId=1172, rating=4.0, timestamp=1260759205)]"
      ]
     },
     "execution_count": 24,
     "metadata": {},
     "output_type": "execute_result"
    }
   ],
   "source": [
    "data2 = movies.rdd\n",
    "data2.take(5)"
   ]
  },
  {
   "cell_type": "code",
   "execution_count": 25,
   "id": "6294a4d3-ced3-4e55-b1e4-bc90427bdc9e",
   "metadata": {},
   "outputs": [
    {
     "data": {
      "text/plain": [
       "[Rating(user=1, product=31, rating=2.5),\n",
       " Rating(user=1, product=1029, rating=3.0),\n",
       " Rating(user=1, product=1061, rating=3.0),\n",
       " Rating(user=1, product=1129, rating=2.0),\n",
       " Rating(user=1, product=1172, rating=4.0)]"
      ]
     },
     "execution_count": 25,
     "metadata": {},
     "output_type": "execute_result"
    }
   ],
   "source": [
    "# Transform to the ratings RDD \n",
    "ratings_final2 = data2.map(lambda line: Rating(int(line[0]), int(line[1]), float(line[2])))\n",
    "ratings_final2.take(5)"
   ]
  },
  {
   "cell_type": "code",
   "execution_count": 26,
   "id": "eb8d4ddd-48f7-4a3a-8be6-1485be1384fe",
   "metadata": {},
   "outputs": [
    {
     "name": "stdout",
     "output_type": "stream",
     "text": [
      "\n",
      "Data: 100004 rows\n",
      "Training set: 80188 rows\n",
      "Test set: 19816 rows\n",
      "\n"
     ]
    }
   ],
   "source": [
    "# Split the data into training and test\n",
    "training_data2, test_data2 = ratings_final2.randomSplit([0.8, 0.2])\n",
    "\n",
    "print(f'''\n",
    "Data: {ratings_final2.count()} rows\n",
    "Training set: {training_data2.count()} rows\n",
    "Test set: {test_data2.count()} rows\n",
    "''')"
   ]
  },
  {
   "cell_type": "markdown",
   "id": "66326582-6f95-46e6-b1fe-46be0d26ecee",
   "metadata": {},
   "source": [
    "## Ex. 3 - Model training and predictions\n",
    "\n",
    "After splitting the data into training and test data, in the second part of the exercise, you'll train the ALS algorithm using the training data. PySpark MLlib's ALS algorithm has the following mandatory parameters - `rank` (the number of latent factors in the model) and `iterations` (number of iterations to run). After training the ALS model, you can use the model to predict the ratings from the test data. For this, you will provide the user and item columns from the test dataset and finally return the list of 2 rows of `predictAll()` output.\n",
    "\n",
    "**Instructions:**\n",
    "\n",
    "- Train ALS algorithm with training data and configured parameters (`rank = 10` and `iterations = 10`).\n",
    "- Drop the `rating` column in the test data, which is the third column.\n",
    "- Test the model by predicting the rating from the test data.\n",
    "- Return a list of two rows of the predicted ratings."
   ]
  },
  {
   "cell_type": "code",
   "execution_count": 27,
   "id": "de2fbc29-489e-4f09-aa78-9e103166fa43",
   "metadata": {},
   "outputs": [
    {
     "data": {
      "text/plain": [
       "<pyspark.mllib.recommendation.MatrixFactorizationModel at 0x22bffe1e8d0>"
      ]
     },
     "execution_count": 27,
     "metadata": {},
     "output_type": "execute_result"
    }
   ],
   "source": [
    "# Create the ALS model on the training data\n",
    "model = ALS.train(training_data, rank=10, iterations=10)\n",
    "model"
   ]
  },
  {
   "cell_type": "code",
   "execution_count": 28,
   "id": "3d654353-2703-47be-ab2d-baf1f51de011",
   "metadata": {},
   "outputs": [
    {
     "data": {
      "text/plain": [
       "[Rating(user=1, product=1029, rating=3.0),\n",
       " Rating(user=1, product=1263, rating=2.0),\n",
       " Rating(user=1, product=1339, rating=3.5)]"
      ]
     },
     "execution_count": 28,
     "metadata": {},
     "output_type": "execute_result"
    }
   ],
   "source": [
    "test_data.take(3)"
   ]
  },
  {
   "cell_type": "code",
   "execution_count": 29,
   "id": "361742b4-af46-4e3a-b141-d72e26f6ad41",
   "metadata": {},
   "outputs": [
    {
     "data": {
      "text/plain": [
       "[(1, 1029), (1, 1263), (1, 1339)]"
      ]
     },
     "execution_count": 29,
     "metadata": {},
     "output_type": "execute_result"
    }
   ],
   "source": [
    "# Drop the ratings column \n",
    "testdata_no_rating = test_data.map(lambda p: (p[0], p[1]))\n",
    "testdata_no_rating.take(3)"
   ]
  },
  {
   "cell_type": "code",
   "execution_count": 30,
   "id": "4235055b-50cd-49c7-8d5b-a44fc7aefb16",
   "metadata": {},
   "outputs": [
    {
     "data": {
      "text/plain": [
       "[Rating(user=529, product=3456, rating=3.0211005805447053),\n",
       " Rating(user=564, product=320, rating=3.8249473171938817),\n",
       " Rating(user=165, product=1840, rating=3.2364912921670363)]"
      ]
     },
     "execution_count": 30,
     "metadata": {},
     "output_type": "execute_result"
    }
   ],
   "source": [
    "# Predict the model  \n",
    "predictions = model.predictAll(testdata_no_rating)\n",
    "\n",
    "# Return the first 2 rows of the RDD\n",
    "predictions.take(3)"
   ]
  },
  {
   "cell_type": "markdown",
   "id": "76ef40cd-fa23-47b4-804b-5575880087e0",
   "metadata": {},
   "source": [
    "## Ex. 4 - Model evaluation using MSE\n",
    "\n",
    "After generating the predicted ratings from the test data using ALS model, in this final part of the exercise, you'll prepare the data for calculating Mean Square Error (MSE) of the model. The MSE is the average value of (original rating – predicted rating)**2 for all users and indicates the absolute fit of the model to the data.\n",
    "\n",
    "To do this, first, you'll organize both the ratings_final and predictions RDDs to make a tuple of `((user, product), rating))`. In both RDDs the mapping is:\n",
    "```\n",
    "0: user\n",
    "1: product\n",
    "2: rating\n",
    "```\n",
    "\n",
    "Then you'll join transformed RDDs and finally apply a squared difference function along with `mean()` to get the MSE.\n",
    "\n",
    "**Instructions:**\n",
    "\n",
    "- Organize `ratings` RDD to make `((user, product), rating)`.\n",
    "- Organize `predictions` RDD to make `((user, product), rating)`.\n",
    "- Join the `prediction` RDD with the `ratings` RDD.\n",
    "- Evaluate the model using MSE between original rating and predicted rating and print it."
   ]
  },
  {
   "cell_type": "code",
   "execution_count": 31,
   "id": "81dc7ab3-fbac-42c3-9a20-e4528bceeb66",
   "metadata": {},
   "outputs": [
    {
     "data": {
      "text/plain": [
       "[((1, 31), 2.5), ((1, 1029), 3.0), ((1, 1061), 3.0)]"
      ]
     },
     "execution_count": 31,
     "metadata": {},
     "output_type": "execute_result"
    }
   ],
   "source": [
    "# Prepare ratings data\n",
    "rates = ratings_final.map(lambda r: ((r[0], r[1]), r[2]))\n",
    "rates.take(3)"
   ]
  },
  {
   "cell_type": "code",
   "execution_count": 32,
   "id": "2735c5b1-ab3d-49c9-8647-86710bd3787f",
   "metadata": {},
   "outputs": [
    {
     "data": {
      "text/plain": [
       "[((529, 3456), 3.0211005805447053),\n",
       " ((564, 320), 3.8249473171938817),\n",
       " ((165, 1840), 3.2364912921670363)]"
      ]
     },
     "execution_count": 32,
     "metadata": {},
     "output_type": "execute_result"
    }
   ],
   "source": [
    "# Prepare predictions data\n",
    "preds = predictions.map(lambda r: ((r[0], r[1]), r[2]))\n",
    "preds.take(3)"
   ]
  },
  {
   "cell_type": "code",
   "execution_count": 33,
   "id": "df5633e4-1506-448c-be66-2fce05482a5c",
   "metadata": {},
   "outputs": [
    {
     "data": {
      "text/plain": [
       "[((1, 1029), (3.0, 0.8428742394249458)),\n",
       " ((4, 1032), (5.0, 4.715217655384938)),\n",
       " ((4, 1210), (5.0, 4.805024029427819))]"
      ]
     },
     "execution_count": 33,
     "metadata": {},
     "output_type": "execute_result"
    }
   ],
   "source": [
    "# Join the ratings data with predictions data\n",
    "rates_and_preds = rates.join(preds)\n",
    "rates_and_preds.take(3)"
   ]
  },
  {
   "cell_type": "code",
   "execution_count": 34,
   "id": "7696f888-43fe-459c-aa51-5061aa5b0677",
   "metadata": {},
   "outputs": [
    {
     "name": "stdout",
     "output_type": "stream",
     "text": [
      "Mean Squared Error of the model for the test data = 1.34\n"
     ]
    }
   ],
   "source": [
    "# Calculate and print MSE\n",
    "MSE = rates_and_preds.map(lambda r: (r[1][0] - r[1][1])**2).mean()\n",
    "print(\"Mean Squared Error of the model for the test data = {:.2f}\".format(MSE))"
   ]
  },
  {
   "cell_type": "markdown",
   "id": "63641231-448d-48e7-83ba-523cd3927338",
   "metadata": {},
   "source": [
    "## Classification\n",
    "\n",
    "### Working with Vectors\n",
    "\n",
    "- PySpark MLlib contains specific data types Vectors and LabeledPoint\n",
    "- Two types of Vectors\n",
    "    - Dense Vector: store all their entries in an array of floating point numbers\n",
    "    - Sparse Vector: store only the nonzero values and their indices"
   ]
  },
  {
   "cell_type": "code",
   "execution_count": 35,
   "id": "d3ea53b3-8949-4e86-b94d-f5c75b9239d1",
   "metadata": {},
   "outputs": [
    {
     "data": {
      "text/plain": [
       "DenseVector([1.0, nan, 2.0, 3.0])"
      ]
     },
     "execution_count": 35,
     "metadata": {},
     "output_type": "execute_result"
    }
   ],
   "source": [
    "denseVec = Vectors.dense([1.0, None, 2.0, 3.0])\n",
    "denseVec"
   ]
  },
  {
   "cell_type": "code",
   "execution_count": 36,
   "id": "7324aba3-233b-4c39-aa09-01c8163d4987",
   "metadata": {},
   "outputs": [
    {
     "data": {
      "text/plain": [
       "SparseVector(4, {1: 1.0, 3: 5.5})"
      ]
     },
     "execution_count": 36,
     "metadata": {},
     "output_type": "execute_result"
    }
   ],
   "source": [
    "sparseVec = Vectors.sparse(4, {1: 1.0, 3: 5.5})\n",
    "sparseVec"
   ]
  },
  {
   "cell_type": "markdown",
   "id": "41a8cd2c-1833-4773-8e1d-0f959a971b5b",
   "metadata": {},
   "source": [
    "### LabeledPoint() in PySpark MLlib\n",
    "\n",
    "- A LabeledPoint is a wrapper for input features and predicted value\n",
    "- For binary classification of Logistic Regression, a label is either `0` (negative) or `1` (positive)"
   ]
  },
  {
   "cell_type": "code",
   "execution_count": 37,
   "id": "deb041df-49cb-4431-b544-e2028c51cdf5",
   "metadata": {},
   "outputs": [
    {
     "name": "stdout",
     "output_type": "stream",
     "text": [
      "(1.0,[1.0,0.0,3.0])\n",
      "(0.0,[2.0,1.0,1.0])\n"
     ]
    }
   ],
   "source": [
    "positive = LabeledPoint(1.0, [1.0, 0.0, 3.0])\n",
    "negative = LabeledPoint(0.0, [2.0, 1.0, 1.0])\n",
    "\n",
    "print(positive)\n",
    "print(negative)"
   ]
  },
  {
   "cell_type": "code",
   "execution_count": 38,
   "id": "733800f1-d062-42b5-ba76-bd58474dc2cd",
   "metadata": {},
   "outputs": [
    {
     "data": {
      "text/plain": [
       "(1.0, DenseVector([1.0, 0.0, 3.0]))"
      ]
     },
     "execution_count": 38,
     "metadata": {},
     "output_type": "execute_result"
    }
   ],
   "source": [
    "positive.label, positive.features"
   ]
  },
  {
   "cell_type": "markdown",
   "id": "deaca728-fa76-4010-a1fb-17ade1cb5e46",
   "metadata": {},
   "source": [
    "### HashingTF() in PySpark MLlib\n",
    "\n",
    "- `HashingTF()` algorithm is used to map feature value to indices in the feature vector"
   ]
  },
  {
   "cell_type": "code",
   "execution_count": 39,
   "id": "0465cadf-f695-4619-9982-be1cd9cf094c",
   "metadata": {},
   "outputs": [
    {
     "data": {
      "text/plain": [
       "SparseVector(10000, {3544: 1.0, 9079: 2.0})"
      ]
     },
     "execution_count": 39,
     "metadata": {},
     "output_type": "execute_result"
    }
   ],
   "source": [
    "sentence = \"hello hello world\"\n",
    "words = sentence.split()\n",
    "\n",
    "tf = HashingTF(10000)\n",
    "tf.transform(words)"
   ]
  },
  {
   "cell_type": "markdown",
   "id": "91196eca-4ba6-4892-847f-b43212042b03",
   "metadata": {},
   "source": [
    "### Logistic Regression using LogisticRegressionWithLBFGS\r\n",
    "- \n",
    "Logistic Regression using Pyspark MLlib is achieved using` LogisticRegressionWithLBFG` \r\n",
    "class"
   ]
  },
  {
   "cell_type": "code",
   "execution_count": 40,
   "id": "ca84c7e0-5c3c-4631-9732-75a17b951a41",
   "metadata": {},
   "outputs": [
    {
     "data": {
      "text/plain": [
       "[LabeledPoint(0.0, [0.0,1.0]), LabeledPoint(1.0, [1.0,0.0])]"
      ]
     },
     "execution_count": 40,
     "metadata": {},
     "output_type": "execute_result"
    }
   ],
   "source": [
    "# Loading the data\n",
    "data = [\n",
    "    LabeledPoint(0.0, [0.0, 1.0]),\n",
    "    LabeledPoint(1.0, [1.0, 0.0]),\n",
    "]\n",
    "\n",
    "RDD = sc.parallelize(data)\n",
    "RDD.collect()"
   ]
  },
  {
   "cell_type": "code",
   "execution_count": 41,
   "id": "c0edb790-7282-4a42-8f97-a0c141952f71",
   "metadata": {},
   "outputs": [
    {
     "data": {
      "text/plain": [
       "pyspark.mllib.LogisticRegressionModel: intercept = 0.0, numFeatures = 2, numClasses = 2, threshold = 0.5"
      ]
     },
     "execution_count": 41,
     "metadata": {},
     "output_type": "execute_result"
    }
   ],
   "source": [
    "# Setting the model\n",
    "lrm = LogisticRegressionWithLBFGS.train(RDD)\n",
    "lrm"
   ]
  },
  {
   "cell_type": "code",
   "execution_count": 42,
   "id": "8d5db57d-0bf5-46f9-9b24-55ccb86fc8f3",
   "metadata": {},
   "outputs": [
    {
     "data": {
      "text/plain": [
       "(1, 0)"
      ]
     },
     "execution_count": 42,
     "metadata": {},
     "output_type": "execute_result"
    }
   ],
   "source": [
    "# Making predictions\n",
    "(lrm.predict([1.0, 0.0]), lrm.predict([0.0, 1.0]))"
   ]
  },
  {
   "cell_type": "markdown",
   "id": "f22e6d20-1628-4d37-8eb4-cad9e399d817",
   "metadata": {},
   "source": [
    "## Ex. 5 - Loading spam and non-spam data\n",
    "\n",
    "Logistic Regression is a popular method to predict a categorical response. Probably one of the most common applications of the logistic regression is the message or email spam classification. In this 3-part exercise, you'll create an email spam classifier with logistic regression using Spark MLlib. Here are the brief steps for creating a spam classifier.\n",
    "\n",
    "- Create an RDD of strings representing email.\n",
    "- Run MLlib’s feature extraction algorithms to convert text into an RDD of vectors.\n",
    "- Call a classification algorithm on the RDD of vectors to return a model object to classify new points.\n",
    "- Evaluate the model on a test dataset using one of MLlib’s evaluation functions.\n",
    "\n",
    "In the first part of the exercise, you'll load the `'spam'` and `'ham'` (non-spam) files into RDDs, split the emails into individual words, and look at the first element in each of the RDD.\n",
    "\n",
    "**Instructions:**\n",
    "\n",
    "1. Create two RDDS, one for `'spam'` and one for `'non-spam (ham)'`.\n",
    "2. Split each email in `'spam'` and `'non-spam'` RDDs into words.\n",
    "3. Print the first element in the split RDD of both `'spam'` and `'non-spam'`."
   ]
  },
  {
   "cell_type": "code",
   "execution_count": 43,
   "id": "bb82857e-7eb7-46ea-a2f3-e80d81349c97",
   "metadata": {},
   "outputs": [
    {
     "name": "stdout",
     "output_type": "stream",
     "text": [
      "\n",
      "Spam: 747 lines\n",
      "First line: You have 1 new message. Please call 08712400200.\n",
      "\n",
      "Non Spam: 4827 lines\n",
      "First line: Rofl. Its true to its name\n",
      "\n"
     ]
    }
   ],
   "source": [
    "file_path_spam = \"data-sources/spam.txt\"\n",
    "file_path_non_spam = \"data-sources/ham.txt\"\n",
    "\n",
    "# Load the datasets into RDDs\n",
    "spam_rdd = sc.textFile(file_path_spam)\n",
    "non_spam_rdd = sc.textFile(file_path_non_spam)\n",
    "\n",
    "# Reviewing the data\n",
    "print(f'''\n",
    "Spam: {spam_rdd.count()} lines\n",
    "First line: {spam_rdd.first()}\n",
    "\n",
    "Non Spam: {non_spam_rdd.count()} lines\n",
    "First line: {non_spam_rdd.first()}\n",
    "''')"
   ]
  },
  {
   "cell_type": "code",
   "execution_count": 44,
   "id": "4d52e107-3452-4ad4-ae05-b4a3f2ed25e7",
   "metadata": {},
   "outputs": [
    {
     "name": "stdout",
     "output_type": "stream",
     "text": [
      "\n",
      "Spam: 17893 words\n",
      "First 2 item: ['You', 'have']\n",
      "\n",
      "Non Spam: 69642 words\n",
      "First 2 item: ['Rofl.', 'Its']\n",
      "\n"
     ]
    }
   ],
   "source": [
    "# Split the email messages into words\n",
    "spam_words = spam_rdd.flatMap(lambda email: email.split(' '))\n",
    "non_spam_words = non_spam_rdd.flatMap(lambda email: email.split(' '))\n",
    "\n",
    "# Reviewing the data\n",
    "print(f'''\n",
    "Spam: {spam_words.count()} words\n",
    "First 2 item: {spam_words.take(2)}\n",
    "\n",
    "Non Spam: {non_spam_words.count()} words\n",
    "First 2 item: {non_spam_words.take(2)}\n",
    "''')"
   ]
  },
  {
   "cell_type": "code",
   "execution_count": 45,
   "id": "c5bced0e-771d-4b50-a80a-faa16de9420a",
   "metadata": {},
   "outputs": [
    {
     "name": "stdout",
     "output_type": "stream",
     "text": [
      "The first element in spam_words is You\n",
      "The first element in non_spam_words is Rofl.\n"
     ]
    }
   ],
   "source": [
    "# Print the first element in the split RDD\n",
    "print(\"The first element in spam_words is\", spam_words.first())\n",
    "print(\"The first element in non_spam_words is\", non_spam_words.first())"
   ]
  },
  {
   "cell_type": "markdown",
   "id": "32070949-8ac0-4cee-851e-a0e6caab46d3",
   "metadata": {},
   "source": [
    "## Ex. 6 - Feature hashing and LabelPoint\n",
    "\n",
    "After splitting the emails into words, our raw data sets `'spam'` and `'non-spam'` are currently composed of 1-line messages. In order to classify these messages, we need to convert text into features.\n",
    "\n",
    "In the second part of the exercise, you'll first create a `HashingTF()` instance to map text to vectors of 200 features. Then for each message in `'spam'` and `'non-spam'` files you'll split them into words, and map each word to one feature. These are the features that will be used to decide whether a message is `'spam'` or `'non-spam'`. Next, you'll create labels for features. For a valid message, the label will be 0 (i.e. the message is not spam) and for a 'spam' message, the label will be 1 (i.e. the message is spam). Finally, you'll combine both labeled datasets.\n",
    "\n",
    "**Instructions:**\n",
    "\n",
    "1. Create a `HashingTF()` instance to map email text to vectors of 200 features.\n",
    "2. Each message in 'spam' and 'non-spam' datasets are split into words, and each word is mapped to one feature.\n",
    "3. Label the features: 1 for spam, 0 for non-spam.\n",
    "4. Combine both the spam and non-spam samples into a single dataset."
   ]
  },
  {
   "cell_type": "code",
   "execution_count": 46,
   "id": "53a22cdd-ffe2-47a3-943b-819f99cdb26d",
   "metadata": {},
   "outputs": [],
   "source": [
    "# Create a HashingTF instance with 200 features\n",
    "tf = HashingTF(numFeatures=200)"
   ]
  },
  {
   "cell_type": "code",
   "execution_count": 47,
   "id": "b3e3509e-ae2a-4c7c-b379-f72d62417a32",
   "metadata": {},
   "outputs": [
    {
     "data": {
      "text/plain": [
       "[SparseVector(200, {75: 1.0, 150: 1.0, 183: 1.0}),\n",
       " SparseVector(200, {1: 1.0, 19: 1.0, 165: 1.0, 169: 1.0}),\n",
       " SparseVector(200, {197: 1.0})]"
      ]
     },
     "execution_count": 47,
     "metadata": {},
     "output_type": "execute_result"
    }
   ],
   "source": [
    "# Map each word to one feature\n",
    "spam_features = tf.transform(spam_words)\n",
    "non_spam_features = tf.transform(non_spam_words)\n",
    "\n",
    "spam_features.take(3)"
   ]
  },
  {
   "cell_type": "code",
   "execution_count": 48,
   "id": "cf8fccb0-ae32-405b-88ee-7bc9ef2ef565",
   "metadata": {},
   "outputs": [
    {
     "data": {
      "text/plain": [
       "[LabeledPoint(1.0, (200,[75,150,183],[1.0,1.0,1.0])),\n",
       " LabeledPoint(1.0, (200,[1,19,165,169],[1.0,1.0,1.0,1.0])),\n",
       " LabeledPoint(1.0, (200,[197],[1.0]))]"
      ]
     },
     "execution_count": 48,
     "metadata": {},
     "output_type": "execute_result"
    }
   ],
   "source": [
    "# Label the features: 1 for spam, 0 for non-spam\n",
    "spam_samples = spam_features.map(lambda features: LabeledPoint(1, features))\n",
    "non_spam_samples = non_spam_features.map(lambda features: LabeledPoint(0, features))\n",
    "\n",
    "spam_samples.take(3)"
   ]
  },
  {
   "cell_type": "code",
   "execution_count": 49,
   "id": "d4df2cc4-56ea-4a6b-9fbf-af671ea465d8",
   "metadata": {},
   "outputs": [
    {
     "data": {
      "text/plain": [
       "[LabeledPoint(1.0, (200,[75,150,183],[1.0,1.0,1.0])),\n",
       " LabeledPoint(1.0, (200,[1,19,165,169],[1.0,1.0,1.0,1.0]))]"
      ]
     },
     "execution_count": 49,
     "metadata": {},
     "output_type": "execute_result"
    }
   ],
   "source": [
    "# Combine the two datasets\n",
    "samples = spam_samples.union(non_spam_samples)\n",
    "samples.take(2)"
   ]
  },
  {
   "cell_type": "markdown",
   "id": "b80b4535-79b3-4ffc-b823-2f3654b789b9",
   "metadata": {},
   "source": [
    "## Ex. 7 - Logistic Regression model training\n",
    "\n",
    "After creating labels and features for the data, we’re ready to build a model that can learn from it (training). But before you train the model, in this final part of the exercise, you'll split the data into training and test, run Logistic Regression model on the training data, and finally check the accuracy of the model trained on training data.\n",
    "\n",
    "**Instructions:**\n",
    "\n",
    "1. Split the combined data into training and test datasets in 80:20 ratio.\n",
    "2. Train the Logistic Regression model with the training dataset.\n",
    "3. Create a prediction label from the trained model on the test dataset.\n",
    "4. Combine the labels in the test dataset with the labels in the prediction dataset using `zip` function.\n",
    "5. Calculate the accuracy of the trained model using original and predicted labels, and print it."
   ]
  },
  {
   "cell_type": "code",
   "execution_count": 50,
   "id": "0096cda2-d5b1-4531-841f-285cccab6160",
   "metadata": {},
   "outputs": [
    {
     "name": "stdout",
     "output_type": "stream",
     "text": [
      "\n",
      "Data: 87535 rows\n",
      "Training set: 69888 rows\n",
      "Test set: 17647 rows\n",
      "\n"
     ]
    }
   ],
   "source": [
    "# Split the data into training and testing\n",
    "train_samples, test_samples = samples.randomSplit([0.8, 0.2])\n",
    "\n",
    "print(f'''\n",
    "Data: {samples.count()} rows\n",
    "Training set: {train_samples.count()} rows\n",
    "Test set: {test_samples.count()} rows\n",
    "''')"
   ]
  },
  {
   "cell_type": "code",
   "execution_count": 51,
   "id": "5023b874-9b75-4773-9b6c-ccbed8ac10aa",
   "metadata": {},
   "outputs": [
    {
     "data": {
      "text/plain": [
       "[0, 0, 0, 1, 1, 0, 0, 0, 0, 0]"
      ]
     },
     "execution_count": 51,
     "metadata": {},
     "output_type": "execute_result"
    }
   ],
   "source": [
    "# Train the model\n",
    "model = LogisticRegressionWithLBFGS.train(train_samples)\n",
    "\n",
    "# Create a prediction label from the test data\n",
    "predictions = model.predict(test_samples.map(lambda x: x.features))\n",
    "predictions.take(10)"
   ]
  },
  {
   "cell_type": "code",
   "execution_count": 52,
   "id": "9f8099d3-0bac-44a3-aa66-808623073d8d",
   "metadata": {},
   "outputs": [
    {
     "data": {
      "text/plain": [
       "[(1.0, 0),\n",
       " (1.0, 0),\n",
       " (1.0, 0),\n",
       " (1.0, 1),\n",
       " (1.0, 1),\n",
       " (1.0, 0),\n",
       " (1.0, 0),\n",
       " (1.0, 0),\n",
       " (1.0, 0),\n",
       " (1.0, 0)]"
      ]
     },
     "execution_count": 52,
     "metadata": {},
     "output_type": "execute_result"
    }
   ],
   "source": [
    "# Combine original labels with the predicted labels\n",
    "labels_and_preds = test_samples.map(lambda x: x.label).zip(predictions)\n",
    "labels_and_preds.take(10)"
   ]
  },
  {
   "cell_type": "code",
   "execution_count": 53,
   "id": "54dc9c39-accf-437b-adf4-e367f1d94f99",
   "metadata": {},
   "outputs": [
    {
     "name": "stdout",
     "output_type": "stream",
     "text": [
      "Model accuracy : 0.82\n"
     ]
    }
   ],
   "source": [
    "# Check the accuracy of the model on the test data\n",
    "accuracy = labels_and_preds.filter(lambda x: x[0] == x[1]).count() / float(test_samples.count())\n",
    "print(\"Model accuracy : {:.2f}\".format(accuracy))"
   ]
  },
  {
   "cell_type": "markdown",
   "id": "ffc33404-201a-49b1-819a-834959e24561",
   "metadata": {},
   "source": [
    "## Clustering\n",
    "\n",
    "### K-means with Spark MLLib\n",
    "\n",
    "- K-means is the most popular clustering method"
   ]
  },
  {
   "cell_type": "code",
   "execution_count": 54,
   "id": "0c55bb40-de3f-4d1e-951f-ac4bab35ff08",
   "metadata": {},
   "outputs": [
    {
     "data": {
      "text/plain": [
       "[[14.23, 1.71], [13.2, 1.78], [13.16, 2.36], [14.37, 1.95], [13.24, 2.59]]"
      ]
     },
     "execution_count": 54,
     "metadata": {},
     "output_type": "execute_result"
    }
   ],
   "source": [
    "RDD = wine.rdd.map(lambda x: [x[1], x[2]])\n",
    "RDD.take(5)"
   ]
  },
  {
   "cell_type": "markdown",
   "id": "1acacdee-ebd2-465f-a405-c01e2b653fbd",
   "metadata": {},
   "source": [
    "### Train a K-means clustering model\n",
    "\n",
    "- Training K-means model is done using KMeans.train() method"
   ]
  },
  {
   "cell_type": "code",
   "execution_count": 55,
   "id": "50686916-095d-4b5f-9034-e597b25c2848",
   "metadata": {},
   "outputs": [
    {
     "data": {
      "text/plain": [
       "[array([13.705     ,  1.78606061]),\n",
       " array([13.0632,  3.8948]),\n",
       " array([12.20032258,  1.66532258])]"
      ]
     },
     "execution_count": 55,
     "metadata": {},
     "output_type": "execute_result"
    }
   ],
   "source": [
    "model = KMeans.train(RDD, k = 3, maxIterations = 10)\n",
    "model.clusterCenters"
   ]
  },
  {
   "cell_type": "markdown",
   "id": "feb2ea4a-a244-42dc-a6ab-b1aaa612578c",
   "metadata": {},
   "source": [
    "### Evaluating the K-means Model"
   ]
  },
  {
   "cell_type": "code",
   "execution_count": 56,
   "id": "149d6c68-35f2-40a2-a2e5-02ce97bdf39c",
   "metadata": {},
   "outputs": [
    {
     "name": "stdout",
     "output_type": "stream",
     "text": [
      "Within Set Sum of Squared Error = 112.44077382105796\n"
     ]
    }
   ],
   "source": [
    "def error(point):\n",
    "    center = model.centers[model.predict(point)]\n",
    "    return sqrt(sum([x**2 for x in (point - center)]))\n",
    "\n",
    "WSSSE = RDD.map(lambda point: error(point)).reduce(lambda x, y: x + y)\n",
    "print(\"Within Set Sum of Squared Error = \" + str(WSSSE))"
   ]
  },
  {
   "cell_type": "markdown",
   "id": "b75f6520-4829-4083-a698-f29fc112f826",
   "metadata": {},
   "source": [
    "### Visualizing clusters"
   ]
  },
  {
   "cell_type": "code",
   "execution_count": 57,
   "id": "35078c93-dbf1-4997-b647-421426db218a",
   "metadata": {},
   "outputs": [
    {
     "data": {
      "text/html": [
       "<div>\n",
       "<style scoped>\n",
       "    .dataframe tbody tr th:only-of-type {\n",
       "        vertical-align: middle;\n",
       "    }\n",
       "\n",
       "    .dataframe tbody tr th {\n",
       "        vertical-align: top;\n",
       "    }\n",
       "\n",
       "    .dataframe thead th {\n",
       "        text-align: right;\n",
       "    }\n",
       "</style>\n",
       "<table border=\"1\" class=\"dataframe\">\n",
       "  <thead>\n",
       "    <tr style=\"text-align: right;\">\n",
       "      <th></th>\n",
       "      <th>Alcohol</th>\n",
       "      <th>Malic</th>\n",
       "    </tr>\n",
       "  </thead>\n",
       "  <tbody>\n",
       "    <tr>\n",
       "      <th>0</th>\n",
       "      <td>14.23</td>\n",
       "      <td>1.71</td>\n",
       "    </tr>\n",
       "    <tr>\n",
       "      <th>1</th>\n",
       "      <td>13.20</td>\n",
       "      <td>1.78</td>\n",
       "    </tr>\n",
       "    <tr>\n",
       "      <th>2</th>\n",
       "      <td>13.16</td>\n",
       "      <td>2.36</td>\n",
       "    </tr>\n",
       "    <tr>\n",
       "      <th>3</th>\n",
       "      <td>14.37</td>\n",
       "      <td>1.95</td>\n",
       "    </tr>\n",
       "    <tr>\n",
       "      <th>4</th>\n",
       "      <td>13.24</td>\n",
       "      <td>2.59</td>\n",
       "    </tr>\n",
       "  </tbody>\n",
       "</table>\n",
       "</div>"
      ],
      "text/plain": [
       "   Alcohol  Malic\n",
       "0    14.23   1.71\n",
       "1    13.20   1.78\n",
       "2    13.16   2.36\n",
       "3    14.37   1.95\n",
       "4    13.24   2.59"
      ]
     },
     "execution_count": 57,
     "metadata": {},
     "output_type": "execute_result"
    }
   ],
   "source": [
    "col_names = [\"Alcohol\", \"Malic\"]\n",
    "\n",
    "wine_data_df = spark.createDataFrame(RDD, schema=col_names)\n",
    "wine_data_df_pandas = wine_data_df.toPandas()\n",
    "wine_data_df_pandas.head()"
   ]
  },
  {
   "cell_type": "code",
   "execution_count": 58,
   "id": "8833443f-6ddc-4539-a95b-6c625deca06c",
   "metadata": {},
   "outputs": [
    {
     "data": {
      "text/html": [
       "<div>\n",
       "<style scoped>\n",
       "    .dataframe tbody tr th:only-of-type {\n",
       "        vertical-align: middle;\n",
       "    }\n",
       "\n",
       "    .dataframe tbody tr th {\n",
       "        vertical-align: top;\n",
       "    }\n",
       "\n",
       "    .dataframe thead th {\n",
       "        text-align: right;\n",
       "    }\n",
       "</style>\n",
       "<table border=\"1\" class=\"dataframe\">\n",
       "  <thead>\n",
       "    <tr style=\"text-align: right;\">\n",
       "      <th></th>\n",
       "      <th>Alcohol</th>\n",
       "      <th>Malic</th>\n",
       "    </tr>\n",
       "  </thead>\n",
       "  <tbody>\n",
       "    <tr>\n",
       "      <th>0</th>\n",
       "      <td>13.705000</td>\n",
       "      <td>1.786061</td>\n",
       "    </tr>\n",
       "    <tr>\n",
       "      <th>1</th>\n",
       "      <td>13.063200</td>\n",
       "      <td>3.894800</td>\n",
       "    </tr>\n",
       "    <tr>\n",
       "      <th>2</th>\n",
       "      <td>12.200323</td>\n",
       "      <td>1.665323</td>\n",
       "    </tr>\n",
       "  </tbody>\n",
       "</table>\n",
       "</div>"
      ],
      "text/plain": [
       "     Alcohol     Malic\n",
       "0  13.705000  1.786061\n",
       "1  13.063200  3.894800\n",
       "2  12.200323  1.665323"
      ]
     },
     "execution_count": 58,
     "metadata": {},
     "output_type": "execute_result"
    }
   ],
   "source": [
    "cluster_centers_pandas = pd.DataFrame(model.clusterCenters, columns=col_names)\n",
    "cluster_centers_pandas.head()"
   ]
  },
  {
   "cell_type": "code",
   "execution_count": 59,
   "id": "12125bc4-05d2-4bf7-814e-601432e051fb",
   "metadata": {},
   "outputs": [
    {
     "data": {
      "image/png": "[encoded data removed]",
      "text/plain": [
       "<Figure size 640x480 with 1 Axes>"
      ]
     },
     "metadata": {},
     "output_type": "display_data"
    }
   ],
   "source": [
    "plt.scatter(wine_data_df_pandas[col_names[0]], wine_data_df_pandas[col_names[1]]);\n",
    "plt.scatter(cluster_centers_pandas[col_names[0]], cluster_centers_pandas[col_names[1]],\n",
    "            color=\"red\", marker=\"x\")\n",
    "plt.xlabel(col_names[0])\n",
    "plt.ylabel(col_names[1])\n",
    "plt.show()"
   ]
  },
  {
   "cell_type": "markdown",
   "id": "a63c8eb1-8fda-4dbb-b8d6-91cabd735e2f",
   "metadata": {},
   "source": [
    "## Ex. 8 - Loading and parsing the 5000 points data\n",
    "\n",
    "Clustering is the unsupervised learning task that involves grouping objects into clusters of high similarity. Unlike the supervised tasks, where data is labeled, clustering can be used to make sense of unlabeled data. PySpark MLlib includes the popular K-means algorithm for clustering. In this 3 part exercise, you'll find out how many clusters are there in a dataset containing 5000 rows and 2 columns. For this you'll first load the data into an RDD, parse the RDD based on the delimiter, run the KMeans model, evaluate the model and finally visualize the clusters.\n",
    "\n",
    "In the first part, you'll load the data into RDD, parse the RDD based on the delimiter, and convert the string type of the data to an integer.\n",
    "\n",
    "**Instructions:**\n",
    "\n",
    "1. Load the `5000_points` dataset into an RDD named `clusterRDD`.\n",
    "2. Transform the `clusterRDD` by splitting the lines based on the tab (`\"\\t\"`).\n",
    "3. Transform the split RDD to create a list of integers for the two columns.\n",
    "4. Confirm that there are 5000 rows in the dataset."
   ]
  },
  {
   "cell_type": "code",
   "execution_count": 60,
   "id": "824acbcb-3716-46a0-836d-15fd0edd25cd",
   "metadata": {},
   "outputs": [
    {
     "name": "stdout",
     "output_type": "stream",
     "text": [
      "There are 5000 rows in the rdd_split_int dataset\n"
     ]
    }
   ],
   "source": [
    "# Load the dataset into an RDD\n",
    "file_path = \"data-sources/5000_points.txt\"\n",
    "clusterRDD = sc.textFile(file_path)\n",
    "\n",
    "# Split the RDD based on tab\n",
    "rdd_split = clusterRDD.map(lambda x: x.split(\"\\t\"))\n",
    "\n",
    "# Transform the split RDD by creating a list of integers\n",
    "rdd_split_int = rdd_split.map(lambda x: [int(x[0]), int(x[1])])\n",
    "\n",
    "# Count the number of rows in RDD \n",
    "print(\"There are {} rows in the rdd_split_int dataset\".format(rdd_split_int.count()))"
   ]
  },
  {
   "cell_type": "code",
   "execution_count": 61,
   "id": "13ab72dc-b8d0-42f5-923a-77ad9ee29d75",
   "metadata": {},
   "outputs": [
    {
     "data": {
      "text/plain": [
       "[[664159, 550946],\n",
       " [665845, 557965],\n",
       " [597173, 575538],\n",
       " [618600, 551446],\n",
       " [635690, 608046]]"
      ]
     },
     "execution_count": 61,
     "metadata": {},
     "output_type": "execute_result"
    }
   ],
   "source": [
    "rdd_split_int.take(5)"
   ]
  },
  {
   "cell_type": "markdown",
   "id": "3331adef-b084-4fe5-b204-3b6822debc65",
   "metadata": {},
   "source": [
    "## Ex. 9 - K-means training\n",
    "\n",
    "Now that the RDD is ready for training, in this 2nd part, you'll test it with k's from 13 to 16 (to save computation time) and use the elbow method to chose the correct `k`. The idea of the elbow method is to run K-means clustering on the dataset for different values of `k`, calculate Within Set Sum of Squared Error (WSSSE), and select the best `k` based on the sudden drop in WSSSE, i.e. where the elbow occurs. Next, you'll retrain the model with the best `k` and finally, get the centroids (cluster centers).\n",
    "\n",
    "**Instructions:**\n",
    "\n",
    "1. Train the KMeans model with clusters from 13 to 16 and print the WSSSE for each cluster.\n",
    "2. Train the KMeans model again with the best k.\n",
    "3. Get the Cluster Centers (centroids) of KMeans model trained with the best k."
   ]
  },
  {
   "cell_type": "code",
   "execution_count": 62,
   "id": "1eb7f7e2-4771-4d42-82b9-84a448f486d2",
   "metadata": {},
   "outputs": [
    {
     "name": "stdout",
     "output_type": "stream",
     "text": [
      "The cluster 13 has Within Set Sum of Squared Error 252060331.1260039\n",
      "The cluster 14 has Within Set Sum of Squared Error 215808893.2796594\n",
      "The cluster 15 has Within Set Sum of Squared Error 169394691.52639425\n",
      "The cluster 16 has Within Set Sum of Squared Error 168103213.0429197\n"
     ]
    }
   ],
   "source": [
    "# Train the model with clusters from 13 to 16 and compute WSSSE\n",
    "k_list = list(range(13, 17))\n",
    "WSSSE_list = []\n",
    "for clst in k_list:\n",
    "    model = KMeans.train(rdd_split_int, clst, seed=1)\n",
    "    WSSSE = rdd_split_int.map(lambda point: error(point)).reduce(lambda x, y: x + y)\n",
    "    WSSSE_list.append(WSSSE)\n",
    "    print(\"The cluster {} has Within Set Sum of Squared Error {}\".format(clst, WSSSE))"
   ]
  },
  {
   "cell_type": "code",
   "execution_count": 63,
   "id": "5024190a-55b3-47a3-968a-d4b9aca44a0d",
   "metadata": {},
   "outputs": [
    {
     "name": "stdout",
     "output_type": "stream",
     "text": [
      "[36251437.8463445, 46414201.75326514, 1291478.4834745526]\n"
     ]
    }
   ],
   "source": [
    "diff = [WSSSE_list[x] - WSSSE_list[x+1] for x in range(len(WSSSE_list) - 1)]\n",
    "print(diff)  # Calculated drop in Sum of Squared Error for eack tested k\n",
    "# For k [14, 15, 16], for k=13 the drop is 0"
   ]
  },
  {
   "cell_type": "code",
   "execution_count": 64,
   "id": "3969d89c-40a8-4f41-8258-dcc78fd6fccc",
   "metadata": {},
   "outputs": [
    {
     "data": {
      "text/plain": [
       "15"
      ]
     },
     "execution_count": 64,
     "metadata": {},
     "output_type": "execute_result"
    }
   ],
   "source": [
    "best_k = k_list[diff.index(max(diff))+1]\n",
    "best_k"
   ]
  },
  {
   "cell_type": "code",
   "execution_count": 65,
   "id": "1e8d0429-9f29-4393-a69f-e574979ae1f0",
   "metadata": {},
   "outputs": [
    {
     "data": {
      "text/plain": [
       "[array([417799.69426752, 787001.99363057]),\n",
       " array([852058.45259939, 157685.52293578]),\n",
       " array([858947.9713467 , 546259.65902579]),\n",
       " array([398555.94857143, 404855.06857143]),\n",
       " array([507818.31339031, 175610.41595442]),\n",
       " array([167856.14071856, 347812.71556886]),\n",
       " array([337565.11890244, 562157.17682927]),\n",
       " array([139682.37572254, 558123.40462428]),\n",
       " array([320602.55, 161521.85]),\n",
       " array([244654.8856305 , 847642.04105572]),\n",
       " array([801616.78164557, 321123.34177215]),\n",
       " array([606574.95622896, 574455.16835017]),\n",
       " array([823421.2507837 , 731145.27272727]),\n",
       " array([617601.91071429, 399504.21428571]),\n",
       " array([670929.06818182, 862765.73295455])]"
      ]
     },
     "execution_count": 65,
     "metadata": {},
     "output_type": "execute_result"
    }
   ],
   "source": [
    "# Train the model again with the best k\n",
    "model = KMeans.train(rdd_split_int, k=best_k, seed=1)\n",
    "\n",
    "# Get cluster centers\n",
    "cluster_centers = model.clusterCenters\n",
    "cluster_centers"
   ]
  },
  {
   "cell_type": "markdown",
   "id": "21fa4e0f-0401-4c4f-bf44-977a938e2804",
   "metadata": {},
   "source": [
    "## Ex. 10 - Visualizing clusters\n",
    "\n",
    "You just trained the k-means model with an optimum `k` value (`k=15`) and generated cluster centers (centroids). In this final exercise, you will visualize the clusters and the centroids by overlaying them. This will indicate how well the clustering worked (ideally, the clusters should be distinct from each other and centroids should be at the center of their respective clusters).\n",
    "\n",
    "To achieve this, you will first convert the `rdd_split_int RDD` into a Spark DataFrame, and then into Pandas DataFrame which can be used for plotting. Similarly, you will convert cluster_centers into a Pandas DataFrame. Once both the DataFrames are created, you will create scatter plots using Matplotlib.\n",
    "\n",
    "**Instructions:**\n",
    "\n",
    "- Convert the `rdd_split_int` RDD to a Spark DataFrame, then to a pandas DataFrame.\n",
    "- Create a pandas DataFrame from the `cluster_centers` list.\n",
    "- Create a scatter plot from the pandas DataFrame of raw data (`rdd_split_int_df_pandas`) and overlay that with a scatter plot from the Pandas DataFrame of centroids (`cluster_centers_pandas`)."
   ]
  },
  {
   "cell_type": "code",
   "execution_count": 66,
   "id": "1574843a-3276-4cbf-ba29-694ce77c3a73",
   "metadata": {},
   "outputs": [
    {
     "data": {
      "image/png": "[encoded data removed]",
      "text/plain": [
       "<Figure size 640x480 with 1 Axes>"
      ]
     },
     "metadata": {},
     "output_type": "display_data"
    }
   ],
   "source": [
    "# Convert rdd_split_int RDD into Spark DataFrame and then to Pandas DataFrame\n",
    "col_names = [\"X\", \"Y\"]\n",
    "rdd_split_int_df_pandas = spark.createDataFrame(rdd_split_int, schema=col_names).toPandas()\n",
    "\n",
    "# Convert cluster_centers to a pandas DataFrame\n",
    "cluster_centers_pandas = pd.DataFrame(cluster_centers, columns=col_names)\n",
    "\n",
    "# Create an overlaid scatter plot of clusters and centroids\n",
    "plt.scatter(rdd_split_int_df_pandas[col_names[0]], rdd_split_int_df_pandas[col_names[1]])\n",
    "plt.scatter(cluster_centers_pandas[col_names[0]], cluster_centers_pandas[col_names[1]], \n",
    "            color=\"red\", marker=\"x\")\n",
    "plt.xlabel(col_names[0])\n",
    "plt.ylabel(col_names[1])\n",
    "plt.show()"
   ]
  },
  {
   "cell_type": "markdown",
   "id": "93cced3a-a8b5-44f7-a1f9-cbf42ad32b18",
   "metadata": {},
   "source": [
    "## Close"
   ]
  },
  {
   "cell_type": "code",
   "execution_count": 67,
   "id": "a8b72f03-cc83-44d4-9736-b6d95572b0d5",
   "metadata": {},
   "outputs": [],
   "source": [
    "spark.stop()"
   ]
  },
  {
   "cell_type": "code",
   "execution_count": null,
   "id": "7e867e2c-27c7-491e-a5ef-e1503072fbe6",
   "metadata": {},
   "outputs": [],
   "source": []
  }
 ],
 "metadata": {
  "kernelspec": {
   "display_name": "Python 3 (ipykernel)",
   "language": "python",
   "name": "python3"
  },
  "language_info": {
   "codemirror_mode": {
    "name": "ipython",
    "version": 3
   },
   "file_extension": ".py",
   "mimetype": "text/x-python",
   "name": "python",
   "nbconvert_exporter": "python",
   "pygments_lexer": "ipython3",
   "version": "3.11.9"
  }
 },
 "nbformat": 4,
 "nbformat_minor": 5
}
